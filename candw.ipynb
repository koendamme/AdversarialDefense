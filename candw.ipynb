{
 "cells": [
  {
   "cell_type": "code",
   "execution_count": 68,
   "metadata": {
    "collapsed": true,
    "ExecuteTime": {
     "end_time": "2024-01-16T09:36:19.926242600Z",
     "start_time": "2024-01-16T09:36:19.913911600Z"
    }
   },
   "outputs": [],
   "source": [
    "import pandas as pd\n",
    "import torch\n",
    "from torch.utils.data import Dataset, DataLoader\n",
    "import torchvision.transforms as transforms\n",
    "import os\n",
    "from torchvision.io import read_image\n",
    "import matplotlib.pyplot as plt\n",
    "from torchvision import models\n",
    "from tqdm.notebook import tqdm"
   ]
  },
  {
   "cell_type": "code",
   "execution_count": 69,
   "outputs": [],
   "source": [
    "class AdversarialDataset(Dataset):\n",
    "    def __init__(self, annotation_file, categories_file, img_dir, x_transform=None, y_transform=None):\n",
    "        self.img_dir = img_dir\n",
    "        annotations = pd.read_csv(annotation_file)\n",
    "        self.categories = pd.read_csv(categories_file)\n",
    "        self.images = annotations[\"ImageId\"] + \".png\"\n",
    "        self.labels = annotations[\"TrueLabel\"]\n",
    "        self.x_transform = x_transform\n",
    "        self.y_transform = y_transform\n",
    "\n",
    "    def __len__(self):\n",
    "        return len(self.images)\n",
    "\n",
    "    def __getitem__(self, idx):\n",
    "        img_path = os.path.join(self.img_dir, self.images[idx])\n",
    "        image = read_image(img_path)\n",
    "\n",
    "        if self.x_transform:\n",
    "            image = self.x_transform(image)\n",
    "\n",
    "        return image, self.labels[idx] - 1"
   ],
   "metadata": {
    "collapsed": false,
    "ExecuteTime": {
     "end_time": "2024-01-16T09:36:19.927238800Z",
     "start_time": "2024-01-16T09:36:19.919470600Z"
    }
   }
  },
  {
   "cell_type": "code",
   "execution_count": 70,
   "outputs": [
    {
     "data": {
      "text/plain": "            ImageId                                                URL  \\\n0  0c7ac4a8c9dfa802  https://c1.staticflickr.com/9/8540/28821627444...   \n1  f43fbfe8a9ea876c  https://c1.staticflickr.com/9/8066/28892033183...   \n2  4fc263d35a3ad3ee  https://c1.staticflickr.com/8/7378/27465801596...   \n3  cc13c2bc5cdd1f44  https://c1.staticflickr.com/9/8864/28546467522...   \n4  73a52afd2f818ed5  https://c1.staticflickr.com/6/5607/31066602702...   \n\n         x1   y1        x2        y2  TrueLabel  TargetClass  \\\n0  0.000000  0.0  0.871838  1.000000        306          779   \n1  0.250000  0.0  1.000000  0.599758        884          378   \n2  0.333333  0.0  1.000000  1.000000        244          123   \n3  0.000000  0.0  0.500000  0.750000        560          741   \n4  0.489195  0.0  1.000000  0.750000        439          696   \n\n                                  OriginalLandingURL  \\\n0  https://www.flickr.com/photos/gails_pictures/2...   \n1    https://www.flickr.com/photos/barty/28892033183   \n2  https://www.flickr.com/photos/foxcroftacademy/...   \n3     https://www.flickr.com/photos/o_0/28546467522/   \n4  https://www.flickr.com/photos/chemiebw/3106660...   \n\n                                        License  \\\n0  https://creativecommons.org/licenses/by/2.0/   \n1  https://creativecommons.org/licenses/by/2.0/   \n2  https://creativecommons.org/licenses/by/2.0/   \n3  https://creativecommons.org/licenses/by/2.0/   \n4  https://creativecommons.org/licenses/by/2.0/   \n\n                                            Author  \\\n0                                    gailhampshire   \n1                                    Barry Badcock   \n2                                 Foxcroft Academy   \n3                                   Guilhem Vellut   \n4  Chemie-Verb\\303\\244nde Baden-W\\303\\274rttemberg   \n\n                                 AuthorProfileURL  \n0   https://www.flickr.com/people/gails_pictures/  \n1            https://www.flickr.com/people/barty/  \n2  https://www.flickr.com/people/foxcroftacademy/  \n3              https://www.flickr.com/people/o_0/  \n4         https://www.flickr.com/people/chemiebw/  ",
      "text/html": "<div>\n<style scoped>\n    .dataframe tbody tr th:only-of-type {\n        vertical-align: middle;\n    }\n\n    .dataframe tbody tr th {\n        vertical-align: top;\n    }\n\n    .dataframe thead th {\n        text-align: right;\n    }\n</style>\n<table border=\"1\" class=\"dataframe\">\n  <thead>\n    <tr style=\"text-align: right;\">\n      <th></th>\n      <th>ImageId</th>\n      <th>URL</th>\n      <th>x1</th>\n      <th>y1</th>\n      <th>x2</th>\n      <th>y2</th>\n      <th>TrueLabel</th>\n      <th>TargetClass</th>\n      <th>OriginalLandingURL</th>\n      <th>License</th>\n      <th>Author</th>\n      <th>AuthorProfileURL</th>\n    </tr>\n  </thead>\n  <tbody>\n    <tr>\n      <th>0</th>\n      <td>0c7ac4a8c9dfa802</td>\n      <td>https://c1.staticflickr.com/9/8540/28821627444...</td>\n      <td>0.000000</td>\n      <td>0.0</td>\n      <td>0.871838</td>\n      <td>1.000000</td>\n      <td>306</td>\n      <td>779</td>\n      <td>https://www.flickr.com/photos/gails_pictures/2...</td>\n      <td>https://creativecommons.org/licenses/by/2.0/</td>\n      <td>gailhampshire</td>\n      <td>https://www.flickr.com/people/gails_pictures/</td>\n    </tr>\n    <tr>\n      <th>1</th>\n      <td>f43fbfe8a9ea876c</td>\n      <td>https://c1.staticflickr.com/9/8066/28892033183...</td>\n      <td>0.250000</td>\n      <td>0.0</td>\n      <td>1.000000</td>\n      <td>0.599758</td>\n      <td>884</td>\n      <td>378</td>\n      <td>https://www.flickr.com/photos/barty/28892033183</td>\n      <td>https://creativecommons.org/licenses/by/2.0/</td>\n      <td>Barry Badcock</td>\n      <td>https://www.flickr.com/people/barty/</td>\n    </tr>\n    <tr>\n      <th>2</th>\n      <td>4fc263d35a3ad3ee</td>\n      <td>https://c1.staticflickr.com/8/7378/27465801596...</td>\n      <td>0.333333</td>\n      <td>0.0</td>\n      <td>1.000000</td>\n      <td>1.000000</td>\n      <td>244</td>\n      <td>123</td>\n      <td>https://www.flickr.com/photos/foxcroftacademy/...</td>\n      <td>https://creativecommons.org/licenses/by/2.0/</td>\n      <td>Foxcroft Academy</td>\n      <td>https://www.flickr.com/people/foxcroftacademy/</td>\n    </tr>\n    <tr>\n      <th>3</th>\n      <td>cc13c2bc5cdd1f44</td>\n      <td>https://c1.staticflickr.com/9/8864/28546467522...</td>\n      <td>0.000000</td>\n      <td>0.0</td>\n      <td>0.500000</td>\n      <td>0.750000</td>\n      <td>560</td>\n      <td>741</td>\n      <td>https://www.flickr.com/photos/o_0/28546467522/</td>\n      <td>https://creativecommons.org/licenses/by/2.0/</td>\n      <td>Guilhem Vellut</td>\n      <td>https://www.flickr.com/people/o_0/</td>\n    </tr>\n    <tr>\n      <th>4</th>\n      <td>73a52afd2f818ed5</td>\n      <td>https://c1.staticflickr.com/6/5607/31066602702...</td>\n      <td>0.489195</td>\n      <td>0.0</td>\n      <td>1.000000</td>\n      <td>0.750000</td>\n      <td>439</td>\n      <td>696</td>\n      <td>https://www.flickr.com/photos/chemiebw/3106660...</td>\n      <td>https://creativecommons.org/licenses/by/2.0/</td>\n      <td>Chemie-Verb\\303\\244nde Baden-W\\303\\274rttemberg</td>\n      <td>https://www.flickr.com/people/chemiebw/</td>\n    </tr>\n  </tbody>\n</table>\n</div>"
     },
     "execution_count": 70,
     "metadata": {},
     "output_type": "execute_result"
    }
   ],
   "source": [
    "df = pd.read_csv(\"images.csv\")\n",
    "\n",
    "df.head()"
   ],
   "metadata": {
    "collapsed": false,
    "ExecuteTime": {
     "end_time": "2024-01-16T09:36:19.955591300Z",
     "start_time": "2024-01-16T09:36:19.922212100Z"
    }
   }
  },
  {
   "cell_type": "code",
   "execution_count": 71,
   "outputs": [],
   "source": [
    "def show_image(datarow):\n",
    "    permuted = torch.permute(datarow[0], (1, 2, 0))\n",
    "    plt.title(datarow[1])\n",
    "    plt.imshow(permuted)"
   ],
   "metadata": {
    "collapsed": false,
    "ExecuteTime": {
     "end_time": "2024-01-16T09:36:19.956591600Z",
     "start_time": "2024-01-16T09:36:19.939327Z"
    }
   }
  },
  {
   "cell_type": "code",
   "execution_count": 72,
   "outputs": [],
   "source": [
    "transform = transforms.Compose([\n",
    "    transforms.ToTensor()\n",
    "])"
   ],
   "metadata": {
    "collapsed": false,
    "ExecuteTime": {
     "end_time": "2024-01-16T09:36:19.956591600Z",
     "start_time": "2024-01-16T09:36:19.943599Z"
    }
   }
  },
  {
   "cell_type": "code",
   "execution_count": 73,
   "outputs": [
    {
     "data": {
      "text/plain": "device(type='cuda', index=0)"
     },
     "execution_count": 73,
     "metadata": {},
     "output_type": "execute_result"
    }
   ],
   "source": [
    "device = torch.device(\"cuda:0\" if torch.cuda.is_available() else \"cpu\")\n",
    "device"
   ],
   "metadata": {
    "collapsed": false,
    "ExecuteTime": {
     "end_time": "2024-01-16T09:36:19.956591600Z",
     "start_time": "2024-01-16T09:36:19.947310200Z"
    }
   }
  },
  {
   "cell_type": "code",
   "execution_count": 74,
   "outputs": [],
   "source": [
    "dataset = AdversarialDataset(\"images.csv\", \"categories.csv\", \"images\")\n",
    "dataloader = DataLoader(dataset, batch_size=16, shuffle=True)\n",
    "\n",
    "model = models.inception_v3(weights=models.Inception_V3_Weights.DEFAULT)\n",
    "model.to(device)\n",
    "\n",
    "loss_function = torch.nn.CrossEntropyLoss()\n",
    "optimizer = torch.optim.Adam(model.parameters(), lr=0.001)"
   ],
   "metadata": {
    "collapsed": false,
    "ExecuteTime": {
     "end_time": "2024-01-16T09:36:20.263363900Z",
     "start_time": "2024-01-16T09:36:19.953591100Z"
    }
   }
  },
  {
   "cell_type": "markdown",
   "source": [
    "<h1>Training</h1>"
   ],
   "metadata": {
    "collapsed": false
   }
  },
  {
   "cell_type": "code",
   "execution_count": 75,
   "outputs": [],
   "source": [
    "n_epochs = 0\n",
    "running_loss = 0\n",
    "n_correct = 0\n",
    "\n",
    "for epoch in range(n_epochs):\n",
    "    for x_batch, y_batch in tqdm(dataloader):\n",
    "        x_batch = x_batch.float()\n",
    "        x_batch = x_batch.to(device)\n",
    "        y_batch = y_batch.type(torch.LongTensor)\n",
    "        y_batch = y_batch.to(device)\n",
    "    \n",
    "        output, _ = model(x_batch)\n",
    "    \n",
    "        loss = loss_function(output, y_batch)\n",
    "    \n",
    "        optimizer.zero_grad()\n",
    "        loss.backward()\n",
    "        optimizer.step()\n",
    "    \n",
    "        running_loss += loss.item() + x_batch.size(0)\n",
    "    \n",
    "        _, preds = torch.max(output, dim=1)\n",
    "        n_correct += torch.sum(preds == y_batch.data)"
   ],
   "metadata": {
    "collapsed": false,
    "ExecuteTime": {
     "end_time": "2024-01-16T09:36:20.267576800Z",
     "start_time": "2024-01-16T09:36:20.262362800Z"
    }
   }
  },
  {
   "cell_type": "markdown",
   "source": [
    "<h1>Testing</h1>"
   ],
   "metadata": {
    "collapsed": false
   }
  },
  {
   "cell_type": "code",
   "execution_count": 76,
   "outputs": [
    {
     "data": {
      "text/plain": "  0%|          | 0/63 [00:00<?, ?it/s]",
      "application/vnd.jupyter.widget-view+json": {
       "version_major": 2,
       "version_minor": 0,
       "model_id": "1d145eda435b492d9f1849c089c8d5c1"
      }
     },
     "metadata": {},
     "output_type": "display_data"
    },
    {
     "name": "stdout",
     "output_type": "stream",
     "text": [
      "tensor(0.8230, device='cuda:0')\n"
     ]
    }
   ],
   "source": [
    "n_correct = 0\n",
    "\n",
    "for x_batch, y_batch in tqdm(dataloader):\n",
    "    x_batch = x_batch.to(device)\n",
    "    y_batch = y_batch.to(device)\n",
    "\n",
    "    output, _ = model(x_batch)\n",
    "\n",
    "    _, preds = torch.max(output, dim=1)\n",
    "    n_correct += torch.sum(preds == y_batch)\n",
    "    \n",
    "print(n_correct/len(dataset))"
   ],
   "metadata": {
    "collapsed": false,
    "ExecuteTime": {
     "end_time": "2024-01-16T09:36:23.586005200Z",
     "start_time": "2024-01-16T09:36:20.268577300Z"
    }
   }
  },
  {
   "cell_type": "code",
   "execution_count": 76,
   "outputs": [],
   "source": [],
   "metadata": {
    "collapsed": false,
    "ExecuteTime": {
     "end_time": "2024-01-16T09:36:23.590018600Z",
     "start_time": "2024-01-16T09:36:23.587514200Z"
    }
   }
  }
 ],
 "metadata": {
  "kernelspec": {
   "display_name": "Python 3",
   "language": "python",
   "name": "python3"
  },
  "language_info": {
   "codemirror_mode": {
    "name": "ipython",
    "version": 2
   },
   "file_extension": ".py",
   "mimetype": "text/x-python",
   "name": "python",
   "nbconvert_exporter": "python",
   "pygments_lexer": "ipython2",
   "version": "2.7.6"
  }
 },
 "nbformat": 4,
 "nbformat_minor": 0
}
