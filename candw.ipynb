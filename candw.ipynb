{
 "cells": [
  {
   "cell_type": "code",
   "execution_count": 1,
   "metadata": {
    "collapsed": true,
    "ExecuteTime": {
     "end_time": "2024-01-29T14:32:11.800709500Z",
     "start_time": "2024-01-29T14:32:08.622553100Z"
    }
   },
   "outputs": [],
   "source": [
    "import torch\n",
    "from torch.utils.data import DataLoader\n",
    "import torchvision.transforms as transforms\n",
    "from adversarial_dataset import AdversarialDataset\n",
    "import os\n",
    "import matplotlib.pyplot as plt\n",
    "from torchvision import models\n",
    "from tqdm.notebook import tqdm\n",
    "import numpy as np\n"
   ]
  },
  {
   "cell_type": "code",
   "execution_count": 2,
   "outputs": [],
   "source": [
    "class TensorToDevice(object):\n",
    "    def __init__(self, device):\n",
    "        self.device = device\n",
    "        \n",
    "    def __call__(self, image):\n",
    "        image = image.to(self.device)\n",
    "        return image"
   ],
   "metadata": {
    "collapsed": false,
    "ExecuteTime": {
     "end_time": "2024-01-29T14:32:11.808496700Z",
     "start_time": "2024-01-29T14:32:11.803104800Z"
    }
   }
  },
  {
   "cell_type": "code",
   "execution_count": 3,
   "outputs": [],
   "source": [
    "def show_image(datarow):\n",
    "    permuted = torch.permute(datarow[0].cpu(), (1, 2, 0))\n",
    "    plt.title(datarow[1])\n",
    "    plt.imshow(permuted)"
   ],
   "metadata": {
    "collapsed": false,
    "ExecuteTime": {
     "end_time": "2024-01-29T14:32:11.814496100Z",
     "start_time": "2024-01-29T14:32:11.805609800Z"
    }
   }
  },
  {
   "cell_type": "code",
   "execution_count": 4,
   "outputs": [
    {
     "data": {
      "text/plain": "device(type='cuda', index=0)"
     },
     "execution_count": 4,
     "metadata": {},
     "output_type": "execute_result"
    }
   ],
   "source": [
    "device = torch.device(\"cuda:0\" if torch.cuda.is_available() else \"cpu\")\n",
    "device"
   ],
   "metadata": {
    "collapsed": false,
    "ExecuteTime": {
     "end_time": "2024-01-29T14:32:11.843269600Z",
     "start_time": "2024-01-29T14:32:11.809494700Z"
    }
   }
  },
  {
   "cell_type": "code",
   "execution_count": 5,
   "outputs": [],
   "source": [
    "mean = (0.485, 0.456, 0.406)\n",
    "std = (0.229, 0.224, 0.225)\n",
    "\n",
    "transform = transforms.Compose([\n",
    "    transforms.ToTensor(),\n",
    "    TensorToDevice(device),\n",
    "    transforms.Normalize(mean=mean, std=std)\n",
    "])\n",
    "\n",
    "noise_transform = transforms.Compose([\n",
    "    transforms.ToTensor()\n",
    "])"
   ],
   "metadata": {
    "collapsed": false,
    "ExecuteTime": {
     "end_time": "2024-01-29T14:32:11.843269600Z",
     "start_time": "2024-01-29T14:32:11.840501600Z"
    }
   }
  },
  {
   "cell_type": "code",
   "execution_count": 6,
   "outputs": [],
   "source": [
    "dataset = AdversarialDataset(annotation_file=\"images.csv\", \n",
    "                             categories_file=\"categories.csv\", \n",
    "                             img_dir=\"images\", \n",
    "                             noise_dir=\"adversarial_noise_untargeted\", \n",
    "                             img_transform=transform, \n",
    "                             noise_transform=noise_transform)\n",
    "\n",
    "dataloader = DataLoader(dataset, batch_size=32, shuffle=False)\n",
    "\n",
    "model = models.inception_v3(weights=models.Inception_V3_Weights.DEFAULT)\n",
    "model = model.to(device)\n",
    "\n",
    "loss_function = torch.nn.CrossEntropyLoss()\n",
    "optimizer = torch.optim.Adam(model.parameters(), lr=0.001)"
   ],
   "metadata": {
    "collapsed": false,
    "ExecuteTime": {
     "end_time": "2024-01-29T14:32:12.202190200Z",
     "start_time": "2024-01-29T14:32:11.843269600Z"
    }
   }
  },
  {
   "cell_type": "markdown",
   "source": [
    "<h3> Generate C&W images </h3>"
   ],
   "metadata": {
    "collapsed": false
   }
  },
  {
   "cell_type": "code",
   "execution_count": 7,
   "outputs": [
    {
     "name": "stdout",
     "output_type": "stream",
     "text": [
      "Batch 1/32\n",
      "Total original correct: 29 at batch 1\n",
      "Total adversarial correct: 2 at batch 1\n",
      "Total targits correct: 30 at batch 1\n",
      "Batch 2/32\n",
      "Total original correct: 60 at batch 2\n",
      "Total adversarial correct: 3 at batch 2\n",
      "Total targits correct: 61 at batch 2\n",
      "Batch 3/32\n",
      "Total original correct: 91 at batch 3\n",
      "Total adversarial correct: 4 at batch 3\n",
      "Total targits correct: 92 at batch 3\n",
      "Batch 4/32\n",
      "Total original correct: 122 at batch 4\n",
      "Total adversarial correct: 4 at batch 4\n",
      "Total targits correct: 124 at batch 4\n",
      "Batch 5/32\n",
      "Total original correct: 151 at batch 5\n",
      "Total adversarial correct: 6 at batch 5\n",
      "Total targits correct: 154 at batch 5\n",
      "Batch 6/32\n",
      "Total original correct: 182 at batch 6\n",
      "Total adversarial correct: 8 at batch 6\n",
      "Total targits correct: 184 at batch 6\n",
      "Batch 7/32\n",
      "Total original correct: 213 at batch 7\n",
      "Total adversarial correct: 9 at batch 7\n",
      "Total targits correct: 214 at batch 7\n",
      "Batch 8/32\n",
      "Total original correct: 244 at batch 8\n",
      "Total adversarial correct: 12 at batch 8\n",
      "Total targits correct: 243 at batch 8\n",
      "Batch 9/32\n",
      "Total original correct: 276 at batch 9\n",
      "Total adversarial correct: 15 at batch 9\n",
      "Total targits correct: 272 at batch 9\n",
      "Batch 10/32\n",
      "Total original correct: 306 at batch 10\n",
      "Total adversarial correct: 15 at batch 10\n",
      "Total targits correct: 304 at batch 10\n",
      "Batch 11/32\n",
      "Total original correct: 337 at batch 11\n",
      "Total adversarial correct: 17 at batch 11\n",
      "Total targits correct: 334 at batch 11\n",
      "Batch 12/32\n",
      "Total original correct: 368 at batch 12\n",
      "Total adversarial correct: 19 at batch 12\n",
      "Total targits correct: 364 at batch 12\n",
      "Batch 13/32\n",
      "Total original correct: 398 at batch 13\n",
      "Total adversarial correct: 19 at batch 13\n",
      "Total targits correct: 395 at batch 13\n",
      "Batch 14/32\n",
      "Total original correct: 429 at batch 14\n",
      "Total adversarial correct: 19 at batch 14\n",
      "Total targits correct: 427 at batch 14\n",
      "Batch 15/32\n",
      "Total original correct: 458 at batch 15\n",
      "Total adversarial correct: 21 at batch 15\n",
      "Total targits correct: 456 at batch 15\n",
      "Batch 16/32\n",
      "Total original correct: 487 at batch 16\n",
      "Total adversarial correct: 25 at batch 16\n",
      "Total targits correct: 484 at batch 16\n",
      "Batch 17/32\n",
      "Total original correct: 518 at batch 17\n",
      "Total adversarial correct: 25 at batch 17\n",
      "Total targits correct: 516 at batch 17\n",
      "Batch 18/32\n",
      "Total original correct: 549 at batch 18\n",
      "Total adversarial correct: 27 at batch 18\n",
      "Total targits correct: 546 at batch 18\n",
      "Batch 19/32\n",
      "Total original correct: 578 at batch 19\n",
      "Total adversarial correct: 27 at batch 19\n",
      "Total targits correct: 578 at batch 19\n",
      "Batch 20/32\n",
      "Total original correct: 609 at batch 20\n",
      "Total adversarial correct: 28 at batch 20\n",
      "Total targits correct: 609 at batch 20\n",
      "Batch 21/32\n",
      "Total original correct: 639 at batch 21\n",
      "Total adversarial correct: 29 at batch 21\n",
      "Total targits correct: 640 at batch 21\n",
      "Batch 22/32\n",
      "Total original correct: 668 at batch 22\n",
      "Total adversarial correct: 32 at batch 22\n",
      "Total targits correct: 669 at batch 22\n",
      "Batch 23/32\n",
      "Total original correct: 700 at batch 23\n",
      "Total adversarial correct: 35 at batch 23\n",
      "Total targits correct: 698 at batch 23\n",
      "Batch 24/32\n",
      "Total original correct: 730 at batch 24\n",
      "Total adversarial correct: 39 at batch 24\n",
      "Total targits correct: 726 at batch 24\n",
      "Batch 25/32\n",
      "Total original correct: 761 at batch 25\n",
      "Total adversarial correct: 42 at batch 25\n",
      "Total targits correct: 755 at batch 25\n",
      "Batch 26/32\n",
      "Total original correct: 792 at batch 26\n",
      "Total adversarial correct: 43 at batch 26\n",
      "Total targits correct: 786 at batch 26\n",
      "Batch 27/32\n",
      "Total original correct: 824 at batch 27\n",
      "Total adversarial correct: 44 at batch 27\n",
      "Total targits correct: 817 at batch 27\n",
      "Batch 28/32\n",
      "Total original correct: 854 at batch 28\n",
      "Total adversarial correct: 45 at batch 28\n",
      "Total targits correct: 848 at batch 28\n",
      "Batch 29/32\n",
      "Total original correct: 884 at batch 29\n",
      "Total adversarial correct: 46 at batch 29\n",
      "Total targits correct: 879 at batch 29\n",
      "Batch 30/32\n",
      "Total original correct: 914 at batch 30\n",
      "Total adversarial correct: 48 at batch 30\n",
      "Total targits correct: 909 at batch 30\n",
      "Batch 31/32\n",
      "Total original correct: 943 at batch 31\n",
      "Total adversarial correct: 50 at batch 31\n",
      "Total targits correct: 939 at batch 31\n",
      "Batch 32/32\n",
      "Total original correct: 951 at batch 32\n",
      "Total adversarial correct: 51 at batch 32\n",
      "Total targits correct: 946 at batch 32\n"
     ]
    }
   ],
   "source": [
    "import cw_impl.cw as cw\n",
    "import math\n",
    "from torchvision.utils import save_image \n",
    "\n",
    "def generate_cw_samples(model, dataloader, save_dir, save_to_disk=True):\n",
    "    n_original_correct = 0 \n",
    "    n_adv_correct = 0\n",
    "    n_adv_targets_correct = 0\n",
    "    \n",
    "    inputs_box = (min((0 - m) / s for m, s in zip(mean, std)), max((1 - m) / s for m, s in zip(mean, std)))\n",
    "    \n",
    "    adversary = cw.L2Adversary(targeted=True, \n",
    "                               confidence=0.0,\n",
    "                               search_steps=5,\n",
    "                               abort_early=True,\n",
    "                               box=inputs_box)\n",
    "    \n",
    "    model.eval()\n",
    "    for i_batch, (inputs, _, labels, targets, input_ids) in enumerate(dataloader):\n",
    "        print(f\"Batch {i_batch+1}/{math.ceil(1000/32)}\")\n",
    "        labels = labels.to(device)\n",
    "        targets = targets.to(device)\n",
    "        adversarial_examples = adversary(model, inputs, targets, to_numpy=False)\n",
    "        adversarial_examples = adversarial_examples.to(device)\n",
    "        \n",
    "        adv_output = model(adversarial_examples)\n",
    "        original_output = model(inputs)\n",
    "        \n",
    "        _, adv_preds = torch.max(adv_output, dim=1)\n",
    "        n_adv_correct += torch.sum(adv_preds == labels)\n",
    "        \n",
    "        _, adv_preds_targets = torch.max(adv_output, dim=1)\n",
    "        n_adv_targets_correct += torch.sum(adv_preds_targets == targets)\n",
    "        \n",
    "        _, preds = torch.max(original_output, dim=1)\n",
    "        n_original_correct += torch.sum(preds == labels)\n",
    "        \n",
    "        print(f\"Total original correct: {n_original_correct} at batch {i_batch+1}\")\n",
    "        print(f\"Total adversarial correct: {n_adv_correct} at batch {i_batch+1}\")\n",
    "        print(f\"Total targits correct: {n_adv_targets_correct} at batch {i_batch+1}\")\n",
    "        \n",
    "        noise = adversarial_examples - inputs\n",
    "        \n",
    "        noise = noise.cpu().numpy()\n",
    "        \n",
    "        if save_to_disk:\n",
    "            for i in range(adversarial_examples.shape[0]):\n",
    "                with open(os.path.join(save_dir, input_ids[i] + \".npy\"), 'wb') as f:\n",
    "                    np.save(f, noise[i])\n",
    "                \n",
    "                \n",
    "                # save_image(adversarial_examples[i], os.path.join(save_dir, input_ids[i] + \".png\"))\n",
    "        \n",
    "generate_cw_samples(model, dataloader, \"adversarial_noise_targeted\")\n",
    "        "
   ],
   "metadata": {
    "collapsed": false,
    "ExecuteTime": {
     "end_time": "2024-01-29T15:24:45.632126800Z",
     "start_time": "2024-01-29T14:32:14.878371Z"
    }
   }
  },
  {
   "cell_type": "code",
   "execution_count": null,
   "outputs": [],
   "source": [
    "model.eval()\n",
    "n_correct_img = 0\n",
    "n_correct_adv = 0\n",
    "for img, noise, label, _, _ in tqdm(dataloader):\n",
    "    noise = noise.to(device)\n",
    "    label = label.to(device)\n",
    "    \n",
    "    output_img = model(img)\n",
    "    output_adv = model(img + noise)\n",
    "\n",
    "    _, preds_img = torch.max(output_img, dim=1)\n",
    "    n_correct_img += torch.sum(preds_img == label)\n",
    "    \n",
    "    _, preds_adv = torch.max(output_adv, dim=1)\n",
    "    n_correct_adv += torch.sum(preds_adv == label)\n",
    "\n",
    "print(n_correct_img/len(dataset))\n",
    "\n",
    "print(n_correct_adv/len(dataset))\n"
   ],
   "metadata": {
    "collapsed": false
   }
  },
  {
   "cell_type": "code",
   "execution_count": null,
   "outputs": [],
   "source": [
    "adversarial_examples[0].shape, inputs.shape"
   ],
   "metadata": {
    "collapsed": false
   }
  },
  {
   "cell_type": "code",
   "execution_count": null,
   "outputs": [],
   "source": [
    "diff.device, inputs.device"
   ],
   "metadata": {
    "collapsed": false
   }
  },
  {
   "cell_type": "code",
   "execution_count": null,
   "outputs": [],
   "source": [
    "torch.min(dataset[0][1]), torch.max(dataset[0][1])"
   ],
   "metadata": {
    "collapsed": false
   }
  },
  {
   "cell_type": "code",
   "execution_count": null,
   "outputs": [],
   "source": [
    "show_image(((dataset[0][1] + .5), \"\"))"
   ],
   "metadata": {
    "collapsed": false
   }
  },
  {
   "cell_type": "code",
   "execution_count": null,
   "outputs": [],
   "source": [
    "def minmax_scaler(arr, *, vmin=0, vmax=1):\n",
    "    arr_min, arr_max = torch.min(arr), torch.max(arr)\n",
    "    return ((arr - arr_min) / (arr_max - arr_min)) * (vmax - vmin) + vmin\n",
    "\n",
    "\n",
    "img = dataset[2][1]\n",
    "\n",
    "show_image((minmax_scaler(img), \"\"))"
   ],
   "metadata": {
    "collapsed": false
   }
  },
  {
   "cell_type": "code",
   "execution_count": null,
   "outputs": [],
   "source": [
    "show_image((dataset[2][0], \"\"))"
   ],
   "metadata": {
    "collapsed": false
   }
  },
  {
   "cell_type": "code",
   "execution_count": null,
   "outputs": [],
   "source": [],
   "metadata": {
    "collapsed": false
   }
  }
 ],
 "metadata": {
  "kernelspec": {
   "display_name": "Python 3",
   "language": "python",
   "name": "python3"
  },
  "language_info": {
   "codemirror_mode": {
    "name": "ipython",
    "version": 2
   },
   "file_extension": ".py",
   "mimetype": "text/x-python",
   "name": "python",
   "nbconvert_exporter": "python",
   "pygments_lexer": "ipython2",
   "version": "2.7.6"
  }
 },
 "nbformat": 4,
 "nbformat_minor": 0
}
