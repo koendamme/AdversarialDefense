{
 "cells": [
  {
   "cell_type": "code",
   "execution_count": null,
   "metadata": {
    "collapsed": true
   },
   "outputs": [],
   "source": [
    "import pandas as pd\n",
    "import torch\n",
    "from torch.utils.data import Dataset, DataLoader\n",
    "import torchvision.transforms as transforms\n",
    "import os\n",
    "from torchvision.io import read_image\n",
    "import matplotlib.pyplot as plt\n",
    "from torchvision import models\n",
    "from tqdm.notebook import tqdm"
   ]
  },
  {
   "cell_type": "code",
   "execution_count": null,
   "outputs": [],
   "source": [
    "class AdversarialDataset(Dataset):\n",
    "    def __init__(self, annotation_file, categories_file, img_dir, x_transform=None, y_transform=None):\n",
    "        self.img_dir = img_dir\n",
    "        annotations = pd.read_csv(annotation_file)\n",
    "        self.categories = pd.read_csv(categories_file)\n",
    "        self.images = annotations[\"ImageId\"] + \".png\"\n",
    "        self.labels = annotations[\"TrueLabel\"]\n",
    "        self.x_transform = x_transform\n",
    "        self.y_transform = y_transform\n",
    "\n",
    "    def __len__(self):\n",
    "        return len(self.images)\n",
    "\n",
    "    def __getitem__(self, idx):\n",
    "        img_path = os.path.join(self.img_dir, self.images[idx])\n",
    "        image = read_image(img_path)\n",
    "        label = self.categories.loc[self.categories[\"CategoryId\"] == self.labels[idx], \"CategoryName\"].values[0]\n",
    "\n",
    "        if self.x_transform:\n",
    "            image = self.x_transform(image)\n",
    "\n",
    "        if self.y_transform:\n",
    "            image = self.y_transform(label)\n",
    "\n",
    "        return image, self.labels[idx]"
   ],
   "metadata": {
    "collapsed": false
   }
  },
  {
   "cell_type": "code",
   "execution_count": null,
   "outputs": [],
   "source": [
    "def show_image(datarow):\n",
    "    permuted = torch.permute(datarow[0], (1, 2, 0))\n",
    "    plt.title(datarow[1])\n",
    "    plt.imshow(permuted)"
   ],
   "metadata": {
    "collapsed": false
   }
  },
  {
   "cell_type": "code",
   "execution_count": null,
   "outputs": [],
   "source": [
    "transform = transforms.Compose([\n",
    "    transforms.ToTensor()\n",
    "])"
   ],
   "metadata": {
    "collapsed": false
   }
  },
  {
   "cell_type": "code",
   "execution_count": null,
   "outputs": [],
   "source": [
    "device = torch.device(\"cuda:0\" if torch.cuda.is_available() else \"cpu\")\n",
    "device"
   ],
   "metadata": {
    "collapsed": false
   }
  },
  {
   "cell_type": "code",
   "execution_count": null,
   "outputs": [],
   "source": [
    "dataset = AdversarialDataset(\"images.csv\", \"categories.csv\", \"images\")\n",
    "dataloader = DataLoader(dataset, batch_size=16, shuffle=True)\n",
    "\n",
    "model = models.inception_v3(weights=None)\n",
    "\n",
    "loss_function = torch.nn.CrossEntropyLoss()\n",
    "optimizer = torch.optim.Adam(model.parameters(), lr=0.001)"
   ],
   "metadata": {
    "collapsed": false
   }
  },
  {
   "cell_type": "code",
   "execution_count": null,
   "outputs": [],
   "source": [
    "running_loss = 0\n",
    "n_correct = 0\n",
    "\n",
    "for x_batch, y_batch in tqdm(dataloader):\n",
    "    x_batch = x_batch.float()\n",
    "    x_batch = x_batch.to(device)\n",
    "    y_batch = y_batch.type(torch.LongTensor)\n",
    "    y_batch = y_batch.to(device)\n",
    "\n",
    "    output, _ = model(x_batch)\n",
    "\n",
    "    loss = loss_function(output, y_batch)\n",
    "\n",
    "    optimizer.zero_grad()\n",
    "    loss.backward()\n",
    "    optimizer.step()\n",
    "\n",
    "    running_loss += loss.item() + x_batch.size(0)\n",
    "\n",
    "    _, preds = torch.max(output, dim=1)\n",
    "    n_correct += torch.sum(preds == y_batch.data)\n",
    "\n",
    "print(running_loss, n_correct)"
   ],
   "metadata": {
    "collapsed": false
   }
  },
  {
   "cell_type": "code",
   "execution_count": null,
   "outputs": [],
   "source": [],
   "metadata": {
    "collapsed": false
   }
  }
 ],
 "metadata": {
  "kernelspec": {
   "display_name": "Python 3",
   "language": "python",
   "name": "python3"
  },
  "language_info": {
   "codemirror_mode": {
    "name": "ipython",
    "version": 2
   },
   "file_extension": ".py",
   "mimetype": "text/x-python",
   "name": "python",
   "nbconvert_exporter": "python",
   "pygments_lexer": "ipython2",
   "version": "2.7.6"
  }
 },
 "nbformat": 4,
 "nbformat_minor": 0
}
