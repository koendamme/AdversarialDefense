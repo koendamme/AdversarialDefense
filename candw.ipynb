{
 "cells": [
  {
   "cell_type": "code",
   "execution_count": 1,
   "metadata": {
    "collapsed": true,
    "ExecuteTime": {
     "end_time": "2024-01-18T12:48:12.210456600Z",
     "start_time": "2024-01-18T12:48:08.303758500Z"
    }
   },
   "outputs": [],
   "source": [
    "import torch\n",
    "from torch.utils.data import DataLoader\n",
    "import torchvision.transforms as transforms\n",
    "from adversarial_dataset import AdversarialDataset\n",
    "import os\n",
    "import matplotlib.pyplot as plt\n",
    "from torchvision import models\n",
    "from tqdm.notebook import tqdm\n",
    "import numpy as np\n"
   ]
  },
  {
   "cell_type": "code",
   "execution_count": 1,
   "outputs": [],
   "source": [],
   "metadata": {
    "collapsed": false,
    "ExecuteTime": {
     "end_time": "2024-01-18T12:48:12.216608700Z",
     "start_time": "2024-01-18T12:48:12.211842700Z"
    }
   }
  },
  {
   "cell_type": "code",
   "execution_count": 2,
   "outputs": [],
   "source": [
    "class TensorToDevice(object):\n",
    "    def __init__(self, device):\n",
    "        self.device = device\n",
    "        \n",
    "    def __call__(self, image):\n",
    "        image = image.to(self.device)\n",
    "        return image"
   ],
   "metadata": {
    "collapsed": false,
    "ExecuteTime": {
     "end_time": "2024-01-18T12:48:12.222080400Z",
     "start_time": "2024-01-18T12:48:12.214348300Z"
    }
   }
  },
  {
   "cell_type": "code",
   "execution_count": 3,
   "outputs": [],
   "source": [
    "def show_image(datarow):\n",
    "    permuted = torch.permute(datarow[0].cpu(), (1, 2, 0))\n",
    "    plt.title(datarow[1])\n",
    "    plt.imshow(permuted)"
   ],
   "metadata": {
    "collapsed": false,
    "ExecuteTime": {
     "end_time": "2024-01-18T12:48:12.222080400Z",
     "start_time": "2024-01-18T12:48:12.217605400Z"
    }
   }
  },
  {
   "cell_type": "code",
   "execution_count": 4,
   "outputs": [
    {
     "data": {
      "text/plain": "device(type='cuda', index=0)"
     },
     "execution_count": 4,
     "metadata": {},
     "output_type": "execute_result"
    }
   ],
   "source": [
    "device = torch.device(\"cuda:0\" if torch.cuda.is_available() else \"cpu\")\n",
    "device"
   ],
   "metadata": {
    "collapsed": false,
    "ExecuteTime": {
     "end_time": "2024-01-18T12:48:12.255116600Z",
     "start_time": "2024-01-18T12:48:12.222080400Z"
    }
   }
  },
  {
   "cell_type": "code",
   "execution_count": 5,
   "outputs": [],
   "source": [
    "mean = (0.485, 0.456, 0.406)\n",
    "std = (0.229, 0.224, 0.225)\n",
    "\n",
    "transform = transforms.Compose([\n",
    "    transforms.ToTensor(),\n",
    "    TensorToDevice(device),\n",
    "    transforms.Normalize(mean=mean, std=std)\n",
    "])\n",
    "\n",
    "adv_transform = transforms.Compose([\n",
    "    transforms.ToTensor(),\n",
    "    TensorToDevice(device)\n",
    "])"
   ],
   "metadata": {
    "collapsed": false,
    "ExecuteTime": {
     "end_time": "2024-01-18T12:48:12.256116400Z",
     "start_time": "2024-01-18T12:48:12.247114500Z"
    }
   }
  },
  {
   "cell_type": "code",
   "execution_count": 6,
   "outputs": [],
   "source": [
    "dataset = AdversarialDataset(\"images.csv\", \"categories.csv\", \"images\", \".png\", x_transform=transform)\n",
    "dataloader = DataLoader(dataset, batch_size=32, shuffle=True)\n",
    "\n",
    "adv_dataset = AdversarialDataset(\"images.csv\", \"categories.csv\", \"adversarial_images_gpu\", \".npy\", x_transform=transform)\n",
    "adv_dataloader = DataLoader(adv_dataset, batch_size=32, shuffle=True)\n",
    "\n",
    "model = models.inception_v3(weights=models.Inception_V3_Weights.DEFAULT)\n",
    "model = model.to(device)\n",
    "\n",
    "loss_function = torch.nn.CrossEntropyLoss()\n",
    "optimizer = torch.optim.Adam(model.parameters(), lr=0.001)"
   ],
   "metadata": {
    "collapsed": false,
    "ExecuteTime": {
     "end_time": "2024-01-18T12:48:12.750537800Z",
     "start_time": "2024-01-18T12:48:12.251115400Z"
    }
   }
  },
  {
   "cell_type": "markdown",
   "source": [
    "<h3>Training</h3>"
   ],
   "metadata": {
    "collapsed": false
   }
  },
  {
   "cell_type": "code",
   "execution_count": 7,
   "outputs": [],
   "source": [
    "n_epochs = 0\n",
    "running_loss = 0\n",
    "n_correct = 0\n",
    "\n",
    "for epoch in range(n_epochs):\n",
    "    for x_batch, y_batch in tqdm(dataloader):\n",
    "        x_batch = x_batch.float()\n",
    "        x_batch = x_batch.to(device)\n",
    "        y_batch = y_batch.type(torch.LongTensor)\n",
    "        y_batch = y_batch.to(device)\n",
    "    \n",
    "        output, _ = model(x_batch)\n",
    "    \n",
    "        loss = loss_function(output, y_batch)\n",
    "    \n",
    "        optimizer.zero_grad()\n",
    "        loss.backward()\n",
    "        optimizer.step()\n",
    "    \n",
    "        running_loss += loss.item() + x_batch.size(0)\n",
    "    \n",
    "        _, preds = torch.max(output, dim=1)\n",
    "        n_correct += torch.sum(preds == y_batch.data)"
   ],
   "metadata": {
    "collapsed": false,
    "ExecuteTime": {
     "end_time": "2024-01-18T12:48:12.757551400Z",
     "start_time": "2024-01-18T12:48:12.751538100Z"
    }
   }
  },
  {
   "cell_type": "markdown",
   "source": [
    "<h3>Testing</h3>"
   ],
   "metadata": {
    "collapsed": false
   }
  },
  {
   "cell_type": "code",
   "execution_count": 8,
   "outputs": [
    {
     "data": {
      "text/plain": "  0%|          | 0/32 [00:00<?, ?it/s]",
      "application/vnd.jupyter.widget-view+json": {
       "version_major": 2,
       "version_minor": 0,
       "model_id": "9e8e0bf98eda4b999b986534304049ba"
      }
     },
     "metadata": {},
     "output_type": "display_data"
    },
    {
     "name": "stdout",
     "output_type": "stream",
     "text": [
      "tensor(0.8800, device='cuda:0')\n"
     ]
    },
    {
     "data": {
      "text/plain": "  0%|          | 0/32 [00:00<?, ?it/s]",
      "application/vnd.jupyter.widget-view+json": {
       "version_major": 2,
       "version_minor": 0,
       "model_id": "a4d9136f18d24544a172617c51efd3b7"
      }
     },
     "metadata": {},
     "output_type": "display_data"
    },
    {
     "name": "stdout",
     "output_type": "stream",
     "text": [
      "tensor(0.8010, device='cuda:0')\n"
     ]
    }
   ],
   "source": [
    "for loader in [dataloader, adv_dataloader]:\n",
    "    n_correct = 0\n",
    "    for x_batch, y_batch, _, _ in tqdm(loader):\n",
    "        y_batch = y_batch.to(device)\n",
    "        output, _ = model(x_batch)\n",
    "    \n",
    "        _, preds = torch.max(output, dim=1)\n",
    "        n_correct += torch.sum(preds == y_batch)\n",
    "        \n",
    "    print(n_correct/len(dataset))\n",
    "\n",
    "# print(n_correct/len(dataset))"
   ],
   "metadata": {
    "collapsed": false,
    "ExecuteTime": {
     "end_time": "2024-01-18T12:48:21.127862900Z",
     "start_time": "2024-01-18T12:48:12.753538500Z"
    }
   }
  },
  {
   "cell_type": "markdown",
   "source": [
    "<h3> Generate C&W images </h3>"
   ],
   "metadata": {
    "collapsed": false
   }
  },
  {
   "cell_type": "code",
   "execution_count": 9,
   "outputs": [
    {
     "name": "stdout",
     "output_type": "stream",
     "text": [
      "Batch 1/32\n",
      "Total original correct: 29 at batch 1\n",
      "Total adversarial correct: 0 at batch 1\n",
      "Batch 2/32\n",
      "Total original correct: 54 at batch 2\n",
      "Total adversarial correct: 0 at batch 2\n",
      "Batch 3/32\n",
      "Total original correct: 81 at batch 3\n",
      "Total adversarial correct: 0 at batch 3\n",
      "Batch 4/32\n",
      "Total original correct: 108 at batch 4\n",
      "Total adversarial correct: 1 at batch 4\n",
      "Batch 5/32\n",
      "Total original correct: 133 at batch 5\n",
      "Total adversarial correct: 1 at batch 5\n",
      "Batch 6/32\n",
      "Total original correct: 163 at batch 6\n",
      "Total adversarial correct: 1 at batch 6\n",
      "Batch 7/32\n",
      "Total original correct: 190 at batch 7\n",
      "Total adversarial correct: 1 at batch 7\n",
      "Batch 8/32\n",
      "Total original correct: 213 at batch 8\n",
      "Total adversarial correct: 1 at batch 8\n",
      "Batch 9/32\n",
      "Total original correct: 241 at batch 9\n",
      "Total adversarial correct: 1 at batch 9\n",
      "Batch 10/32\n",
      "Total original correct: 267 at batch 10\n",
      "Total adversarial correct: 1 at batch 10\n",
      "Batch 11/32\n",
      "Total original correct: 295 at batch 11\n",
      "Total adversarial correct: 1 at batch 11\n",
      "Batch 12/32\n",
      "Total original correct: 321 at batch 12\n",
      "Total adversarial correct: 1 at batch 12\n",
      "Batch 13/32\n",
      "Total original correct: 341 at batch 13\n",
      "Total adversarial correct: 2 at batch 13\n",
      "Batch 14/32\n",
      "Total original correct: 363 at batch 14\n",
      "Total adversarial correct: 2 at batch 14\n",
      "Batch 15/32\n",
      "Total original correct: 388 at batch 15\n",
      "Total adversarial correct: 3 at batch 15\n",
      "Batch 16/32\n",
      "Total original correct: 418 at batch 16\n",
      "Total adversarial correct: 3 at batch 16\n",
      "Batch 17/32\n",
      "Total original correct: 445 at batch 17\n",
      "Total adversarial correct: 3 at batch 17\n",
      "Batch 18/32\n",
      "Total original correct: 477 at batch 18\n",
      "Total adversarial correct: 3 at batch 18\n",
      "Batch 19/32\n",
      "Total original correct: 504 at batch 19\n",
      "Total adversarial correct: 3 at batch 19\n",
      "Batch 20/32\n",
      "Total original correct: 527 at batch 20\n",
      "Total adversarial correct: 4 at batch 20\n",
      "Batch 21/32\n",
      "Total original correct: 553 at batch 21\n",
      "Total adversarial correct: 5 at batch 21\n",
      "Batch 22/32\n",
      "Total original correct: 579 at batch 22\n",
      "Total adversarial correct: 6 at batch 22\n",
      "Batch 23/32\n",
      "Total original correct: 604 at batch 23\n",
      "Total adversarial correct: 6 at batch 23\n",
      "Batch 24/32\n",
      "Total original correct: 632 at batch 24\n",
      "Total adversarial correct: 6 at batch 24\n",
      "Batch 25/32\n",
      "Total original correct: 657 at batch 25\n",
      "Total adversarial correct: 6 at batch 25\n",
      "Batch 26/32\n",
      "Total original correct: 682 at batch 26\n",
      "Total adversarial correct: 7 at batch 26\n",
      "Batch 27/32\n",
      "Total original correct: 707 at batch 27\n",
      "Total adversarial correct: 8 at batch 27\n",
      "Batch 28/32\n",
      "Total original correct: 736 at batch 28\n",
      "Total adversarial correct: 8 at batch 28\n",
      "Batch 29/32\n",
      "Total original correct: 764 at batch 29\n",
      "Total adversarial correct: 8 at batch 29\n",
      "Batch 30/32\n",
      "Total original correct: 789 at batch 30\n",
      "Total adversarial correct: 8 at batch 30\n",
      "Batch 31/32\n",
      "Total original correct: 812 at batch 31\n",
      "Total adversarial correct: 8 at batch 31\n",
      "Batch 32/32\n",
      "Total original correct: 818 at batch 32\n",
      "Total adversarial correct: 8 at batch 32\n"
     ]
    }
   ],
   "source": [
    "import cw_impl.cw as cw\n",
    "import math\n",
    "from torchvision.utils import save_image \n",
    "\n",
    "def generate_cw_samples(model, dataloader, save_dir, save_to_disk=True):\n",
    "    n_original_correct, n_adv_correct = 0, 0\n",
    "    \n",
    "    inputs_box = (min((0 - m) / s for m, s in zip(mean, std)), max((1 - m) / s for m, s in zip(mean, std)))\n",
    "    \n",
    "    adversary = cw.L2Adversary(targeted=False, \n",
    "                               confidence=0.0,\n",
    "                               search_steps=5,\n",
    "                               abort_early=True,\n",
    "                               box=inputs_box)\n",
    "    \n",
    "    model.eval()\n",
    "    for i_batch, (inputs, labels, _, input_ids) in enumerate(dataloader):\n",
    "        print(f\"Batch {i_batch+1}/{math.ceil(1000/32)}\")\n",
    "        labels = labels.to(device)\n",
    "        adversarial_examples = adversary(model, inputs, labels, to_numpy=False)\n",
    "        adversarial_examples = adversarial_examples.to(device)\n",
    "        \n",
    "        adv_output = model(adversarial_examples)\n",
    "        original_output = model(inputs)\n",
    "        \n",
    "        _, adv_preds = torch.max(adv_output, dim=1)\n",
    "        n_adv_correct += torch.sum(adv_preds == labels)\n",
    "        \n",
    "        _, preds = torch.max(original_output, dim=1)\n",
    "        n_original_correct += torch.sum(preds == labels)\n",
    "        \n",
    "        \n",
    "        print(f\"Total original correct: {n_original_correct} at batch {i_batch+1}\")\n",
    "        print(f\"Total adversarial correct: {n_adv_correct} at batch {i_batch+1}\")\n",
    "        \n",
    "        if save_to_disk:\n",
    "            for i in range(adversarial_examples.shape[0]):\n",
    "                save_image(adversarial_examples[i], os.path.join(save_dir, input_ids[i] + \".png\"))\n",
    "        \n",
    "generate_cw_samples(model, dataloader, \"test\")\n",
    "        "
   ],
   "metadata": {
    "collapsed": false,
    "ExecuteTime": {
     "end_time": "2024-01-18T14:23:10.244088300Z",
     "start_time": "2024-01-18T12:48:21.126862800Z"
    }
   }
  },
  {
   "cell_type": "code",
   "execution_count": 10,
   "outputs": [],
   "source": [
    "import cw_impl.cw as cw\n",
    "\n",
    "inputs_box = (min((0 - m) / s for m, s in zip(mean, std)), max((1 - m) / s for m, s in zip(mean, std)))\n",
    "    \n",
    "adversary = cw.L2Adversary(targeted=False, \n",
    "                           confidence=0.0,\n",
    "                           search_steps=5,\n",
    "                           abort_early=True,\n",
    "                           box=inputs_box)\n",
    "\n",
    "model.eval()\n",
    "\n",
    "inputs, labels, targets, ids = next(iter(dataloader))\n",
    "\n",
    "adversarial_examples = adversary(model, inputs, labels, to_numpy=True)\n"
   ],
   "metadata": {
    "collapsed": false,
    "ExecuteTime": {
     "end_time": "2024-01-18T14:26:26.409952300Z",
     "start_time": "2024-01-18T14:23:10.242087900Z"
    }
   }
  },
  {
   "cell_type": "code",
   "execution_count": 10,
   "outputs": [],
   "source": [],
   "metadata": {
    "collapsed": false,
    "ExecuteTime": {
     "end_time": "2024-01-18T14:26:26.415806300Z",
     "start_time": "2024-01-18T14:26:26.411301900Z"
    }
   }
  }
 ],
 "metadata": {
  "kernelspec": {
   "display_name": "Python 3",
   "language": "python",
   "name": "python3"
  },
  "language_info": {
   "codemirror_mode": {
    "name": "ipython",
    "version": 2
   },
   "file_extension": ".py",
   "mimetype": "text/x-python",
   "name": "python",
   "nbconvert_exporter": "python",
   "pygments_lexer": "ipython2",
   "version": "2.7.6"
  }
 },
 "nbformat": 4,
 "nbformat_minor": 0
}
