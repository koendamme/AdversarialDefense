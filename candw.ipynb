{
 "cells": [
  {
   "cell_type": "code",
   "execution_count": 1,
   "metadata": {
    "collapsed": true,
    "ExecuteTime": {
     "end_time": "2024-01-26T11:09:38.826153500Z",
     "start_time": "2024-01-26T11:09:35.204650900Z"
    }
   },
   "outputs": [],
   "source": [
    "import torch\n",
    "from torch.utils.data import DataLoader\n",
    "import torchvision.transforms as transforms\n",
    "from adversarial_dataset import AdversarialDataset\n",
    "import os\n",
    "import matplotlib.pyplot as plt\n",
    "from torchvision import models\n",
    "from tqdm.notebook import tqdm\n",
    "import numpy as np\n"
   ]
  },
  {
   "cell_type": "code",
   "execution_count": 1,
   "outputs": [],
   "source": [],
   "metadata": {
    "collapsed": false,
    "ExecuteTime": {
     "end_time": "2024-01-26T11:09:38.833273500Z",
     "start_time": "2024-01-26T11:09:38.826153500Z"
    }
   }
  },
  {
   "cell_type": "code",
   "execution_count": 2,
   "outputs": [],
   "source": [
    "class TensorToDevice(object):\n",
    "    def __init__(self, device):\n",
    "        self.device = device\n",
    "        \n",
    "    def __call__(self, image):\n",
    "        image = image.to(self.device)\n",
    "        return image"
   ],
   "metadata": {
    "collapsed": false,
    "ExecuteTime": {
     "end_time": "2024-01-26T11:09:38.833273500Z",
     "start_time": "2024-01-26T11:09:38.829154200Z"
    }
   }
  },
  {
   "cell_type": "code",
   "execution_count": 3,
   "outputs": [],
   "source": [
    "def show_image(datarow):\n",
    "    permuted = torch.permute(datarow[0].cpu(), (1, 2, 0))\n",
    "    plt.title(datarow[1])\n",
    "    plt.imshow(permuted)"
   ],
   "metadata": {
    "collapsed": false,
    "ExecuteTime": {
     "end_time": "2024-01-26T11:09:38.839798900Z",
     "start_time": "2024-01-26T11:09:38.832273300Z"
    }
   }
  },
  {
   "cell_type": "code",
   "execution_count": 4,
   "outputs": [
    {
     "data": {
      "text/plain": "device(type='cuda', index=0)"
     },
     "execution_count": 4,
     "metadata": {},
     "output_type": "execute_result"
    }
   ],
   "source": [
    "device = torch.device(\"cuda:0\" if torch.cuda.is_available() else \"cpu\")\n",
    "device"
   ],
   "metadata": {
    "collapsed": false,
    "ExecuteTime": {
     "end_time": "2024-01-26T11:09:38.888253600Z",
     "start_time": "2024-01-26T11:09:38.839798900Z"
    }
   }
  },
  {
   "cell_type": "code",
   "execution_count": 5,
   "outputs": [],
   "source": [
    "mean = (0.485, 0.456, 0.406)\n",
    "std = (0.229, 0.224, 0.225)\n",
    "\n",
    "transform = transforms.Compose([\n",
    "    transforms.ToTensor(),\n",
    "    TensorToDevice(device),\n",
    "    transforms.Normalize(mean=mean, std=std)\n",
    "])\n",
    "\n",
    "adv_transform = transforms.Compose([\n",
    "    transforms.ToTensor(),\n",
    "    TensorToDevice(device)\n",
    "])"
   ],
   "metadata": {
    "collapsed": false,
    "ExecuteTime": {
     "end_time": "2024-01-26T11:09:38.888253600Z",
     "start_time": "2024-01-26T11:09:38.881251700Z"
    }
   }
  },
  {
   "cell_type": "code",
   "execution_count": 6,
   "outputs": [],
   "source": [
    "dataset = AdversarialDataset(\"images.csv\", \"categories.csv\", \"images\", \".png\", x_transform=transform)\n",
    "dataloader = DataLoader(dataset, batch_size=32, shuffle=False)\n",
    "\n",
    "adv_dataset = AdversarialDataset(\"images.csv\", \"categories.csv\", \"adversarial_images_gpu\", \".npy\", x_transform=transform)\n",
    "adv_dataloader = DataLoader(adv_dataset, batch_size=32, shuffle=True)\n",
    "\n",
    "model = models.inception_v3(weights=models.Inception_V3_Weights.DEFAULT)\n",
    "model = model.to(device)\n",
    "\n",
    "loss_function = torch.nn.CrossEntropyLoss()\n",
    "optimizer = torch.optim.Adam(model.parameters(), lr=0.001)"
   ],
   "metadata": {
    "collapsed": false,
    "ExecuteTime": {
     "end_time": "2024-01-26T11:09:39.387295100Z",
     "start_time": "2024-01-26T11:09:38.887252900Z"
    }
   }
  },
  {
   "cell_type": "markdown",
   "source": [
    "<h3>Training</h3>"
   ],
   "metadata": {
    "collapsed": false
   }
  },
  {
   "cell_type": "code",
   "execution_count": 7,
   "outputs": [],
   "source": [
    "# n_epochs = 0\n",
    "# running_loss = 0\n",
    "# n_correct = 0\n",
    "# \n",
    "# for epoch in range(n_epochs):\n",
    "#     for x_batch, y_batch in tqdm(dataloader):\n",
    "#         x_batch = x_batch.float()\n",
    "#         x_batch = x_batch.to(device)\n",
    "#         y_batch = y_batch.type(torch.LongTensor)\n",
    "#         y_batch = y_batch.to(device)\n",
    "#     \n",
    "#         output, _ = model(x_batch)\n",
    "#     \n",
    "#         loss = loss_function(output, y_batch)\n",
    "#     \n",
    "#         optimizer.zero_grad()\n",
    "#         loss.backward()\n",
    "#         optimizer.step()\n",
    "#     \n",
    "#         running_loss += loss.item() + x_batch.size(0)\n",
    "#     \n",
    "#         _, preds = torch.max(output, dim=1)\n",
    "#         n_correct += torch.sum(preds == y_batch.data)"
   ],
   "metadata": {
    "collapsed": false,
    "ExecuteTime": {
     "end_time": "2024-01-26T11:09:39.395204100Z",
     "start_time": "2024-01-26T11:09:39.388295400Z"
    }
   }
  },
  {
   "cell_type": "markdown",
   "source": [
    "<h3>Testing</h3>"
   ],
   "metadata": {
    "collapsed": false
   }
  },
  {
   "cell_type": "code",
   "execution_count": 8,
   "outputs": [],
   "source": [
    "# for loader in [dataloader, adv_dataloader]:\n",
    "#     n_correct = 0\n",
    "#     for x_batch, y_batch, _, _ in tqdm(loader):\n",
    "#         y_batch = y_batch.to(device)\n",
    "#         output, _ = model(x_batch)\n",
    "#     \n",
    "#         _, preds = torch.max(output, dim=1)\n",
    "#         n_correct += torch.sum(preds == y_batch)\n",
    "#         \n",
    "#     print(n_correct/len(dataset))\n",
    "\n",
    "# print(n_correct/len(dataset))"
   ],
   "metadata": {
    "collapsed": false,
    "ExecuteTime": {
     "end_time": "2024-01-26T11:09:39.396203700Z",
     "start_time": "2024-01-26T11:09:39.391296300Z"
    }
   }
  },
  {
   "cell_type": "markdown",
   "source": [
    "<h3> Generate C&W images </h3>"
   ],
   "metadata": {
    "collapsed": false
   }
  },
  {
   "cell_type": "code",
   "execution_count": 9,
   "outputs": [
    {
     "name": "stdout",
     "output_type": "stream",
     "text": [
      "Batch 1/32\n",
      "Total original correct: 29 at batch 1\n",
      "Total adversarial correct: 0 at batch 1\n",
      "Batch 2/32\n",
      "Total original correct: 60 at batch 2\n",
      "Total adversarial correct: 0 at batch 2\n",
      "Batch 3/32\n",
      "Total original correct: 91 at batch 3\n",
      "Total adversarial correct: 0 at batch 3\n",
      "Batch 4/32\n",
      "Total original correct: 122 at batch 4\n",
      "Total adversarial correct: 0 at batch 4\n",
      "Batch 5/32\n",
      "Total original correct: 151 at batch 5\n",
      "Total adversarial correct: 1 at batch 5\n",
      "Batch 6/32\n",
      "Total original correct: 182 at batch 6\n",
      "Total adversarial correct: 1 at batch 6\n",
      "Batch 7/32\n",
      "Total original correct: 213 at batch 7\n",
      "Total adversarial correct: 1 at batch 7\n",
      "Batch 8/32\n",
      "Total original correct: 244 at batch 8\n",
      "Total adversarial correct: 1 at batch 8\n",
      "Batch 9/32\n",
      "Total original correct: 276 at batch 9\n",
      "Total adversarial correct: 1 at batch 9\n",
      "Batch 10/32\n",
      "Total original correct: 306 at batch 10\n",
      "Total adversarial correct: 1 at batch 10\n",
      "Batch 11/32\n",
      "Total original correct: 337 at batch 11\n",
      "Total adversarial correct: 1 at batch 11\n",
      "Batch 12/32\n",
      "Total original correct: 368 at batch 12\n",
      "Total adversarial correct: 1 at batch 12\n",
      "Batch 13/32\n",
      "Total original correct: 398 at batch 13\n",
      "Total adversarial correct: 1 at batch 13\n",
      "Batch 14/32\n",
      "Total original correct: 429 at batch 14\n",
      "Total adversarial correct: 1 at batch 14\n",
      "Batch 15/32\n",
      "Total original correct: 458 at batch 15\n",
      "Total adversarial correct: 1 at batch 15\n",
      "Batch 16/32\n",
      "Total original correct: 487 at batch 16\n",
      "Total adversarial correct: 1 at batch 16\n",
      "Batch 17/32\n",
      "Total original correct: 518 at batch 17\n",
      "Total adversarial correct: 1 at batch 17\n",
      "Batch 18/32\n",
      "Total original correct: 549 at batch 18\n",
      "Total adversarial correct: 1 at batch 18\n",
      "Batch 19/32\n",
      "Total original correct: 578 at batch 19\n",
      "Total adversarial correct: 1 at batch 19\n",
      "Batch 20/32\n",
      "Total original correct: 609 at batch 20\n",
      "Total adversarial correct: 1 at batch 20\n",
      "Batch 21/32\n",
      "Total original correct: 639 at batch 21\n",
      "Total adversarial correct: 1 at batch 21\n",
      "Batch 22/32\n",
      "Total original correct: 668 at batch 22\n",
      "Total adversarial correct: 1 at batch 22\n",
      "Batch 23/32\n",
      "Total original correct: 700 at batch 23\n",
      "Total adversarial correct: 1 at batch 23\n",
      "Batch 24/32\n",
      "Total original correct: 730 at batch 24\n",
      "Total adversarial correct: 1 at batch 24\n",
      "Batch 25/32\n",
      "Total original correct: 761 at batch 25\n",
      "Total adversarial correct: 1 at batch 25\n",
      "Batch 26/32\n",
      "Total original correct: 792 at batch 26\n",
      "Total adversarial correct: 1 at batch 26\n",
      "Batch 27/32\n",
      "Total original correct: 824 at batch 27\n",
      "Total adversarial correct: 1 at batch 27\n",
      "Batch 28/32\n",
      "Total original correct: 854 at batch 28\n",
      "Total adversarial correct: 1 at batch 28\n",
      "Batch 29/32\n",
      "Total original correct: 884 at batch 29\n",
      "Total adversarial correct: 1 at batch 29\n",
      "Batch 30/32\n",
      "Total original correct: 914 at batch 30\n",
      "Total adversarial correct: 1 at batch 30\n",
      "Batch 31/32\n",
      "Total original correct: 943 at batch 31\n",
      "Total adversarial correct: 1 at batch 31\n",
      "Batch 32/32\n",
      "Total original correct: 951 at batch 32\n",
      "Total adversarial correct: 1 at batch 32\n"
     ]
    }
   ],
   "source": [
    "import cw_impl.cw as cw\n",
    "import math\n",
    "from torchvision.utils import save_image \n",
    "\n",
    "def generate_cw_samples(model, dataloader, save_dir, save_to_disk=True):\n",
    "    n_original_correct, n_adv_correct = 0, 0\n",
    "    \n",
    "    inputs_box = (min((0 - m) / s for m, s in zip(mean, std)), max((1 - m) / s for m, s in zip(mean, std)))\n",
    "    \n",
    "    adversary = cw.L2Adversary(targeted=False, \n",
    "                               confidence=0.0,\n",
    "                               search_steps=5,\n",
    "                               abort_early=True,\n",
    "                               box=inputs_box)\n",
    "    \n",
    "    model.eval()\n",
    "    for i_batch, (inputs, labels, _, input_ids) in enumerate(dataloader):\n",
    "        print(f\"Batch {i_batch+1}/{math.ceil(1000/32)}\")\n",
    "        labels = labels.to(device)\n",
    "        adversarial_examples = adversary(model, inputs, labels, to_numpy=False)\n",
    "        adversarial_examples = adversarial_examples.to(device)\n",
    "        \n",
    "        adv_output = model(adversarial_examples)\n",
    "        original_output = model(inputs)\n",
    "        \n",
    "        _, adv_preds = torch.max(adv_output, dim=1)\n",
    "        n_adv_correct += torch.sum(adv_preds == labels)\n",
    "        \n",
    "        _, preds = torch.max(original_output, dim=1)\n",
    "        n_original_correct += torch.sum(preds == labels)\n",
    "        \n",
    "        print(f\"Total original correct: {n_original_correct} at batch {i_batch+1}\")\n",
    "        print(f\"Total adversarial correct: {n_adv_correct} at batch {i_batch+1}\")\n",
    "        \n",
    "        noise = adversarial_examples - inputs\n",
    "        \n",
    "        noise = noise.cpu().numpy()\n",
    "        \n",
    "        if save_to_disk:\n",
    "            for i in range(adversarial_examples.shape[0]):\n",
    "                with open(os.path.join(save_dir, input_ids[i] + \".npy\"), 'wb') as f:\n",
    "                    np.save(f, noise[i])\n",
    "                \n",
    "                \n",
    "                # save_image(adversarial_examples[i], os.path.join(save_dir, input_ids[i] + \".png\"))\n",
    "        \n",
    "generate_cw_samples(model, dataloader, \"adversarial_noise_untargeted\")\n",
    "        "
   ],
   "metadata": {
    "collapsed": false,
    "ExecuteTime": {
     "end_time": "2024-01-26T12:18:15.037773100Z",
     "start_time": "2024-01-26T11:09:39.396203700Z"
    }
   }
  },
  {
   "cell_type": "code",
   "execution_count": 10,
   "outputs": [
    {
     "ename": "KeyboardInterrupt",
     "evalue": "",
     "output_type": "error",
     "traceback": [
      "\u001B[1;31m---------------------------------------------------------------------------\u001B[0m",
      "\u001B[1;31mKeyboardInterrupt\u001B[0m                         Traceback (most recent call last)",
      "Cell \u001B[1;32mIn[10], line 15\u001B[0m\n\u001B[0;32m     11\u001B[0m model\u001B[38;5;241m.\u001B[39meval()\n\u001B[0;32m     13\u001B[0m inputs, labels, targets, ids \u001B[38;5;241m=\u001B[39m \u001B[38;5;28mnext\u001B[39m(\u001B[38;5;28miter\u001B[39m(dataloader))\n\u001B[1;32m---> 15\u001B[0m adversarial_examples \u001B[38;5;241m=\u001B[39m adversary(model, inputs, labels, to_numpy\u001B[38;5;241m=\u001B[39m\u001B[38;5;28;01mFalse\u001B[39;00m)\n",
      "File \u001B[1;32mC:\\dev\\AdversarialDefense\\cw_impl\\cw.py:319\u001B[0m, in \u001B[0;36mL2Adversary.__call__\u001B[1;34m(self, model, inputs, targets, to_numpy)\u001B[0m\n\u001B[0;32m    316\u001B[0m prev_batch_loss \u001B[38;5;241m=\u001B[39m np\u001B[38;5;241m.\u001B[39minf  \u001B[38;5;66;03m# type: float\u001B[39;00m\n\u001B[0;32m    317\u001B[0m \u001B[38;5;28;01mfor\u001B[39;00m optim_step \u001B[38;5;129;01min\u001B[39;00m \u001B[38;5;28mrange\u001B[39m(\u001B[38;5;28mself\u001B[39m\u001B[38;5;241m.\u001B[39mmax_steps):\n\u001B[0;32m    318\u001B[0m     batch_loss, pert_norms_np, pert_outputs_np, advxs_np \u001B[38;5;241m=\u001B[39m \\\n\u001B[1;32m--> 319\u001B[0m         \u001B[38;5;28mself\u001B[39m\u001B[38;5;241m.\u001B[39m_optimize(model, optimizer, inputs_tanh_var,\n\u001B[0;32m    320\u001B[0m                        pert_tanh_var, targets_oh_var,\n\u001B[0;32m    321\u001B[0m                        scale_consts_var)\n\u001B[0;32m    322\u001B[0m     \u001B[38;5;66;03m# if optim_step % 10 == 0: print('batch [{}] loss: {}'.format(optim_step, batch_loss))  # FIXME\u001B[39;00m\n\u001B[0;32m    324\u001B[0m     \u001B[38;5;28;01mif\u001B[39;00m \u001B[38;5;28mself\u001B[39m\u001B[38;5;241m.\u001B[39mabort_early \u001B[38;5;129;01mand\u001B[39;00m \u001B[38;5;129;01mnot\u001B[39;00m optim_step \u001B[38;5;241m%\u001B[39m (\u001B[38;5;28mself\u001B[39m\u001B[38;5;241m.\u001B[39mmax_steps \u001B[38;5;241m/\u001B[39m\u001B[38;5;241m/\u001B[39m \u001B[38;5;241m10\u001B[39m):\n",
      "File \u001B[1;32mC:\\dev\\AdversarialDefense\\cw_impl\\cw.py:466\u001B[0m, in \u001B[0;36mL2Adversary._optimize\u001B[1;34m(self, model, optimizer, inputs_tanh_var, pert_tanh_var, targets_oh_var, c_var)\u001B[0m\n\u001B[0;32m    464\u001B[0m \u001B[38;5;66;03m# Do optimization for one step\u001B[39;00m\n\u001B[0;32m    465\u001B[0m optimizer\u001B[38;5;241m.\u001B[39mzero_grad()\n\u001B[1;32m--> 466\u001B[0m batch_loss_var\u001B[38;5;241m.\u001B[39mbackward()\n\u001B[0;32m    467\u001B[0m optimizer\u001B[38;5;241m.\u001B[39mstep()\n\u001B[0;32m    469\u001B[0m \u001B[38;5;66;03m# Make some records in python/numpy on CPU\u001B[39;00m\n\u001B[0;32m    470\u001B[0m \u001B[38;5;66;03m# batch_loss = batch_loss_var.data[0]  # type: float\u001B[39;00m\n",
      "File \u001B[1;32m~\\anaconda3\\envs\\DeepLearning\\Lib\\site-packages\\torch\\_tensor.py:492\u001B[0m, in \u001B[0;36mTensor.backward\u001B[1;34m(self, gradient, retain_graph, create_graph, inputs)\u001B[0m\n\u001B[0;32m    482\u001B[0m \u001B[38;5;28;01mif\u001B[39;00m has_torch_function_unary(\u001B[38;5;28mself\u001B[39m):\n\u001B[0;32m    483\u001B[0m     \u001B[38;5;28;01mreturn\u001B[39;00m handle_torch_function(\n\u001B[0;32m    484\u001B[0m         Tensor\u001B[38;5;241m.\u001B[39mbackward,\n\u001B[0;32m    485\u001B[0m         (\u001B[38;5;28mself\u001B[39m,),\n\u001B[1;32m   (...)\u001B[0m\n\u001B[0;32m    490\u001B[0m         inputs\u001B[38;5;241m=\u001B[39minputs,\n\u001B[0;32m    491\u001B[0m     )\n\u001B[1;32m--> 492\u001B[0m torch\u001B[38;5;241m.\u001B[39mautograd\u001B[38;5;241m.\u001B[39mbackward(\n\u001B[0;32m    493\u001B[0m     \u001B[38;5;28mself\u001B[39m, gradient, retain_graph, create_graph, inputs\u001B[38;5;241m=\u001B[39minputs\n\u001B[0;32m    494\u001B[0m )\n",
      "File \u001B[1;32m~\\anaconda3\\envs\\DeepLearning\\Lib\\site-packages\\torch\\autograd\\__init__.py:251\u001B[0m, in \u001B[0;36mbackward\u001B[1;34m(tensors, grad_tensors, retain_graph, create_graph, grad_variables, inputs)\u001B[0m\n\u001B[0;32m    246\u001B[0m     retain_graph \u001B[38;5;241m=\u001B[39m create_graph\n\u001B[0;32m    248\u001B[0m \u001B[38;5;66;03m# The reason we repeat the same comment below is that\u001B[39;00m\n\u001B[0;32m    249\u001B[0m \u001B[38;5;66;03m# some Python versions print out the first line of a multi-line function\u001B[39;00m\n\u001B[0;32m    250\u001B[0m \u001B[38;5;66;03m# calls in the traceback and some print out the last line\u001B[39;00m\n\u001B[1;32m--> 251\u001B[0m Variable\u001B[38;5;241m.\u001B[39m_execution_engine\u001B[38;5;241m.\u001B[39mrun_backward(  \u001B[38;5;66;03m# Calls into the C++ engine to run the backward pass\u001B[39;00m\n\u001B[0;32m    252\u001B[0m     tensors,\n\u001B[0;32m    253\u001B[0m     grad_tensors_,\n\u001B[0;32m    254\u001B[0m     retain_graph,\n\u001B[0;32m    255\u001B[0m     create_graph,\n\u001B[0;32m    256\u001B[0m     inputs,\n\u001B[0;32m    257\u001B[0m     allow_unreachable\u001B[38;5;241m=\u001B[39m\u001B[38;5;28;01mTrue\u001B[39;00m,\n\u001B[0;32m    258\u001B[0m     accumulate_grad\u001B[38;5;241m=\u001B[39m\u001B[38;5;28;01mTrue\u001B[39;00m,\n\u001B[0;32m    259\u001B[0m )\n",
      "\u001B[1;31mKeyboardInterrupt\u001B[0m: "
     ]
    }
   ],
   "source": [
    "import cw_impl.cw as cw\n",
    "\n",
    "inputs_box = (min((0 - m) / s for m, s in zip(mean, std)), max((1 - m) / s for m, s in zip(mean, std)))\n",
    "    \n",
    "adversary = cw.L2Adversary(targeted=False, \n",
    "                           confidence=0.0,\n",
    "                           search_steps=5,\n",
    "                           abort_early=True,\n",
    "                           box=inputs_box)\n",
    "\n",
    "model.eval()\n",
    "\n",
    "inputs, labels, targets, ids = next(iter(dataloader))\n",
    "\n",
    "adversarial_examples = adversary(model, inputs, labels, to_numpy=False)\n"
   ],
   "metadata": {
    "collapsed": false,
    "ExecuteTime": {
     "end_time": "2024-01-26T12:18:24.375730200Z",
     "start_time": "2024-01-26T12:18:15.033772800Z"
    }
   }
  },
  {
   "cell_type": "code",
   "execution_count": null,
   "outputs": [],
   "source": [
    "adversarial_examples[0].shape, inputs.shape"
   ],
   "metadata": {
    "collapsed": false,
    "ExecuteTime": {
     "start_time": "2024-01-26T12:18:24.372729200Z"
    }
   }
  },
  {
   "cell_type": "code",
   "execution_count": null,
   "outputs": [],
   "source": [
    "diff.device, inputs.device"
   ],
   "metadata": {
    "collapsed": false,
    "ExecuteTime": {
     "start_time": "2024-01-26T12:18:24.375730200Z"
    }
   }
  },
  {
   "cell_type": "code",
   "execution_count": null,
   "outputs": [],
   "source": [],
   "metadata": {
    "collapsed": false,
    "ExecuteTime": {
     "start_time": "2024-01-26T12:18:24.381244400Z"
    }
   }
  }
 ],
 "metadata": {
  "kernelspec": {
   "display_name": "Python 3",
   "language": "python",
   "name": "python3"
  },
  "language_info": {
   "codemirror_mode": {
    "name": "ipython",
    "version": 2
   },
   "file_extension": ".py",
   "mimetype": "text/x-python",
   "name": "python",
   "nbconvert_exporter": "python",
   "pygments_lexer": "ipython2",
   "version": "2.7.6"
  }
 },
 "nbformat": 4,
 "nbformat_minor": 0
}
