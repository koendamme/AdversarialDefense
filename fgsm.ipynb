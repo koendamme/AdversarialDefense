{
 "cells": [
  {
   "cell_type": "code",
   "execution_count": 10,
   "metadata": {
    "collapsed": true,
    "ExecuteTime": {
     "end_time": "2024-02-01T10:46:18.060663600Z",
     "start_time": "2024-02-01T10:46:16.981619800Z"
    }
   },
   "outputs": [],
   "source": [
    "import torch\n",
    "from torch.utils.data import DataLoader, Subset\n",
    "import torchvision.transforms as transforms\n",
    "from adversarial_dataset import AdversarialDataset\n",
    "from sklearn.model_selection import train_test_split\n",
    "import matplotlib.pyplot as plt\n",
    "from torchvision import models\n",
    "import torch.nn.functional as F\n",
    "from tqdm.notebook import tqdm\n",
    "import os\n",
    "import numpy as np"
   ]
  },
  {
   "cell_type": "code",
   "execution_count": 2,
   "outputs": [],
   "source": [
    "class TensorToDevice(object):\n",
    "    def __init__(self, device):\n",
    "        self.device = device\n",
    "\n",
    "    def __call__(self, image):\n",
    "        image = image.to(self.device)\n",
    "        return image"
   ],
   "metadata": {
    "collapsed": false,
    "ExecuteTime": {
     "end_time": "2024-02-01T10:31:58.369539400Z",
     "start_time": "2024-02-01T10:31:58.363694500Z"
    }
   }
  },
  {
   "cell_type": "code",
   "execution_count": 3,
   "outputs": [
    {
     "data": {
      "text/plain": "device(type='cuda', index=0)"
     },
     "execution_count": 3,
     "metadata": {},
     "output_type": "execute_result"
    }
   ],
   "source": [
    "device = torch.device(\"cuda:0\" if torch.cuda.is_available() else \"cpu\")\n",
    "device"
   ],
   "metadata": {
    "collapsed": false,
    "ExecuteTime": {
     "end_time": "2024-02-01T10:31:58.434056Z",
     "start_time": "2024-02-01T10:31:58.367537500Z"
    }
   }
  },
  {
   "cell_type": "code",
   "execution_count": 4,
   "outputs": [],
   "source": [
    "mean = (0.485, 0.456, 0.406)\n",
    "std = (0.229, 0.224, 0.225)\n",
    "\n",
    "transform = transforms.Compose([\n",
    "    transforms.ToTensor(),\n",
    "    TensorToDevice(device),\n",
    "    transforms.Normalize(mean=mean, std=std)\n",
    "])\n",
    "\n",
    "noise_transform = transforms.Compose([\n",
    "    transforms.ToTensor()\n",
    "])"
   ],
   "metadata": {
    "collapsed": false,
    "ExecuteTime": {
     "end_time": "2024-02-01T10:31:58.435056600Z",
     "start_time": "2024-02-01T10:31:58.430055400Z"
    }
   }
  },
  {
   "cell_type": "code",
   "execution_count": 5,
   "outputs": [],
   "source": [
    "dataset = AdversarialDataset(annotation_file=\"images.csv\",\n",
    "                             categories_file=\"categories.csv\",\n",
    "                             img_dir=\"images\",\n",
    "                             img_transform=transform,\n",
    "                             noise_transform=noise_transform)\n",
    "\n",
    "dataloader = DataLoader(dataset, batch_size=8, shuffle=False)\n",
    "\n",
    "model = models.inception_v3(weights=models.Inception_V3_Weights.DEFAULT)\n",
    "model_to_train = models.inception_v3(weights=models.Inception_V3_Weights.DEFAULT)\n",
    "model, model_to_train = model.to(device), model_to_train.to(device)\n",
    "\n",
    "loss_function = torch.nn.CrossEntropyLoss()\n",
    "optimizer = torch.optim.Adam(model.parameters(), lr=0.001)"
   ],
   "metadata": {
    "collapsed": false,
    "ExecuteTime": {
     "end_time": "2024-02-01T10:31:59.457739400Z",
     "start_time": "2024-02-01T10:31:58.438057200Z"
    }
   }
  },
  {
   "cell_type": "code",
   "execution_count": 16,
   "outputs": [],
   "source": [
    "def fgsm(input, labels, model, epsilon):\n",
    "    inputs.requires_grad = True\n",
    "    output = model(inputs)\n",
    "    loss = F.nll_loss(output, labels)\n",
    "\n",
    "    model.zero_grad()\n",
    "    loss.backward()\n",
    "    return epsilon*inputs.grad.data.sign()"
   ],
   "metadata": {
    "collapsed": false,
    "ExecuteTime": {
     "end_time": "2024-02-01T10:57:41.787550400Z",
     "start_time": "2024-02-01T10:57:41.759016800Z"
    }
   }
  },
  {
   "cell_type": "code",
   "execution_count": 25,
   "outputs": [
    {
     "name": "stdout",
     "output_type": "stream",
     "text": [
      "Epoch: 1/10\n",
      "Training...\n"
     ]
    },
    {
     "data": {
      "text/plain": "  0%|          | 0/50 [00:00<?, ?it/s]",
      "application/vnd.jupyter.widget-view+json": {
       "version_major": 2,
       "version_minor": 0,
       "model_id": "5a02e90e55e543cfa50d9637172211f5"
      }
     },
     "metadata": {},
     "output_type": "display_data"
    },
    {
     "name": "stdout",
     "output_type": "stream",
     "text": [
      "Evaluating...\n"
     ]
    },
    {
     "data": {
      "text/plain": "  0%|          | 0/13 [00:00<?, ?it/s]",
      "application/vnd.jupyter.widget-view+json": {
       "version_major": 2,
       "version_minor": 0,
       "model_id": "910223a99c4a4c029f6eff8332d3d1de"
      }
     },
     "metadata": {},
     "output_type": "display_data"
    },
    {
     "name": "stdout",
     "output_type": "stream",
     "text": [
      "Train accuracy: 0.26. Test accuracy: 0.29\n",
      "Train loss: 4.11. Test loss: 4.31\n",
      "-------------------------------------------------\n",
      "Epoch: 2/10\n",
      "Training...\n"
     ]
    },
    {
     "data": {
      "text/plain": "  0%|          | 0/50 [00:00<?, ?it/s]",
      "application/vnd.jupyter.widget-view+json": {
       "version_major": 2,
       "version_minor": 0,
       "model_id": "e6668e889f19406fb3466a5bd1476dd0"
      }
     },
     "metadata": {},
     "output_type": "display_data"
    },
    {
     "name": "stdout",
     "output_type": "stream",
     "text": [
      "Evaluating...\n"
     ]
    },
    {
     "data": {
      "text/plain": "  0%|          | 0/13 [00:00<?, ?it/s]",
      "application/vnd.jupyter.widget-view+json": {
       "version_major": 2,
       "version_minor": 0,
       "model_id": "1ae98653edc34576a64a75f9b1dff4f4"
      }
     },
     "metadata": {},
     "output_type": "display_data"
    },
    {
     "name": "stdout",
     "output_type": "stream",
     "text": [
      "Train accuracy: 0.27. Test accuracy: 0.29\n",
      "Train loss: 4.1. Test loss: 4.31\n",
      "-------------------------------------------------\n",
      "Epoch: 3/10\n",
      "Training...\n"
     ]
    },
    {
     "data": {
      "text/plain": "  0%|          | 0/50 [00:00<?, ?it/s]",
      "application/vnd.jupyter.widget-view+json": {
       "version_major": 2,
       "version_minor": 0,
       "model_id": "a9d0c1186e094efc92b322335879c575"
      }
     },
     "metadata": {},
     "output_type": "display_data"
    },
    {
     "name": "stdout",
     "output_type": "stream",
     "text": [
      "Evaluating...\n"
     ]
    },
    {
     "data": {
      "text/plain": "  0%|          | 0/13 [00:00<?, ?it/s]",
      "application/vnd.jupyter.widget-view+json": {
       "version_major": 2,
       "version_minor": 0,
       "model_id": "1178f881a682420ba2162fecd17e5bb4"
      }
     },
     "metadata": {},
     "output_type": "display_data"
    },
    {
     "name": "stdout",
     "output_type": "stream",
     "text": [
      "Train accuracy: 0.28. Test accuracy: 0.29\n",
      "Train loss: 4.09. Test loss: 4.31\n",
      "-------------------------------------------------\n",
      "Epoch: 4/10\n",
      "Training...\n"
     ]
    },
    {
     "data": {
      "text/plain": "  0%|          | 0/50 [00:00<?, ?it/s]",
      "application/vnd.jupyter.widget-view+json": {
       "version_major": 2,
       "version_minor": 0,
       "model_id": "7fa7b04ecaac4a0d92e63b376acbf089"
      }
     },
     "metadata": {},
     "output_type": "display_data"
    },
    {
     "name": "stdout",
     "output_type": "stream",
     "text": [
      "Evaluating...\n"
     ]
    },
    {
     "data": {
      "text/plain": "  0%|          | 0/13 [00:00<?, ?it/s]",
      "application/vnd.jupyter.widget-view+json": {
       "version_major": 2,
       "version_minor": 0,
       "model_id": "82896057e950474fb4d80a9d749e2daa"
      }
     },
     "metadata": {},
     "output_type": "display_data"
    },
    {
     "name": "stdout",
     "output_type": "stream",
     "text": [
      "Train accuracy: 0.28. Test accuracy: 0.29\n",
      "Train loss: 4.05. Test loss: 4.31\n",
      "-------------------------------------------------\n",
      "Epoch: 5/10\n",
      "Training...\n"
     ]
    },
    {
     "data": {
      "text/plain": "  0%|          | 0/50 [00:00<?, ?it/s]",
      "application/vnd.jupyter.widget-view+json": {
       "version_major": 2,
       "version_minor": 0,
       "model_id": "b07489cca5f5418faa2b386426472967"
      }
     },
     "metadata": {},
     "output_type": "display_data"
    },
    {
     "name": "stdout",
     "output_type": "stream",
     "text": [
      "Evaluating...\n"
     ]
    },
    {
     "data": {
      "text/plain": "  0%|          | 0/13 [00:00<?, ?it/s]",
      "application/vnd.jupyter.widget-view+json": {
       "version_major": 2,
       "version_minor": 0,
       "model_id": "086081f69f1b4143b09872cc85cf2b27"
      }
     },
     "metadata": {},
     "output_type": "display_data"
    },
    {
     "name": "stdout",
     "output_type": "stream",
     "text": [
      "Train accuracy: 0.28. Test accuracy: 0.29\n",
      "Train loss: 4.07. Test loss: 4.31\n",
      "-------------------------------------------------\n",
      "Epoch: 6/10\n",
      "Training...\n"
     ]
    },
    {
     "data": {
      "text/plain": "  0%|          | 0/50 [00:00<?, ?it/s]",
      "application/vnd.jupyter.widget-view+json": {
       "version_major": 2,
       "version_minor": 0,
       "model_id": "252cd25b0c484ff088c54b073431543e"
      }
     },
     "metadata": {},
     "output_type": "display_data"
    },
    {
     "name": "stdout",
     "output_type": "stream",
     "text": [
      "Evaluating...\n"
     ]
    },
    {
     "data": {
      "text/plain": "  0%|          | 0/13 [00:00<?, ?it/s]",
      "application/vnd.jupyter.widget-view+json": {
       "version_major": 2,
       "version_minor": 0,
       "model_id": "21d934f19a044410b6173e2d1c66bad0"
      }
     },
     "metadata": {},
     "output_type": "display_data"
    },
    {
     "name": "stdout",
     "output_type": "stream",
     "text": [
      "Train accuracy: 0.28. Test accuracy: 0.29\n",
      "Train loss: 4.08. Test loss: 4.31\n",
      "-------------------------------------------------\n",
      "Epoch: 7/10\n",
      "Training...\n"
     ]
    },
    {
     "data": {
      "text/plain": "  0%|          | 0/50 [00:00<?, ?it/s]",
      "application/vnd.jupyter.widget-view+json": {
       "version_major": 2,
       "version_minor": 0,
       "model_id": "8da98a9e836444fbbbac6c41db53140f"
      }
     },
     "metadata": {},
     "output_type": "display_data"
    },
    {
     "name": "stdout",
     "output_type": "stream",
     "text": [
      "Evaluating...\n"
     ]
    },
    {
     "data": {
      "text/plain": "  0%|          | 0/13 [00:00<?, ?it/s]",
      "application/vnd.jupyter.widget-view+json": {
       "version_major": 2,
       "version_minor": 0,
       "model_id": "a76e61a83b53471aafcf3ca998101448"
      }
     },
     "metadata": {},
     "output_type": "display_data"
    },
    {
     "name": "stdout",
     "output_type": "stream",
     "text": [
      "Train accuracy: 0.27. Test accuracy: 0.29\n",
      "Train loss: 4.1. Test loss: 4.31\n",
      "-------------------------------------------------\n",
      "Epoch: 8/10\n",
      "Training...\n"
     ]
    },
    {
     "data": {
      "text/plain": "  0%|          | 0/50 [00:00<?, ?it/s]",
      "application/vnd.jupyter.widget-view+json": {
       "version_major": 2,
       "version_minor": 0,
       "model_id": "021701a37114408ba2911a0a271d0019"
      }
     },
     "metadata": {},
     "output_type": "display_data"
    },
    {
     "name": "stdout",
     "output_type": "stream",
     "text": [
      "Evaluating...\n"
     ]
    },
    {
     "data": {
      "text/plain": "  0%|          | 0/13 [00:00<?, ?it/s]",
      "application/vnd.jupyter.widget-view+json": {
       "version_major": 2,
       "version_minor": 0,
       "model_id": "0294397489514a0a80d4ec6d17659f3f"
      }
     },
     "metadata": {},
     "output_type": "display_data"
    },
    {
     "name": "stdout",
     "output_type": "stream",
     "text": [
      "Train accuracy: 0.28. Test accuracy: 0.29\n",
      "Train loss: 4.09. Test loss: 4.31\n",
      "-------------------------------------------------\n",
      "Epoch: 9/10\n",
      "Training...\n"
     ]
    },
    {
     "data": {
      "text/plain": "  0%|          | 0/50 [00:00<?, ?it/s]",
      "application/vnd.jupyter.widget-view+json": {
       "version_major": 2,
       "version_minor": 0,
       "model_id": "dc59db9e8bfb450385a66dffc2cf0b88"
      }
     },
     "metadata": {},
     "output_type": "display_data"
    },
    {
     "name": "stdout",
     "output_type": "stream",
     "text": [
      "Evaluating...\n"
     ]
    },
    {
     "data": {
      "text/plain": "  0%|          | 0/13 [00:00<?, ?it/s]",
      "application/vnd.jupyter.widget-view+json": {
       "version_major": 2,
       "version_minor": 0,
       "model_id": "1bee78b9670e49d4ba765116517a14b6"
      }
     },
     "metadata": {},
     "output_type": "display_data"
    },
    {
     "name": "stdout",
     "output_type": "stream",
     "text": [
      "Train accuracy: 0.29. Test accuracy: 0.29\n",
      "Train loss: 4.03. Test loss: 4.31\n",
      "-------------------------------------------------\n",
      "Epoch: 10/10\n",
      "Training...\n"
     ]
    },
    {
     "data": {
      "text/plain": "  0%|          | 0/50 [00:00<?, ?it/s]",
      "application/vnd.jupyter.widget-view+json": {
       "version_major": 2,
       "version_minor": 0,
       "model_id": "9218c349f4c445988ff9544e3d518b36"
      }
     },
     "metadata": {},
     "output_type": "display_data"
    },
    {
     "name": "stdout",
     "output_type": "stream",
     "text": [
      "Evaluating...\n"
     ]
    },
    {
     "data": {
      "text/plain": "  0%|          | 0/13 [00:00<?, ?it/s]",
      "application/vnd.jupyter.widget-view+json": {
       "version_major": 2,
       "version_minor": 0,
       "model_id": "9c776349c28e4013b4a68ef1461934e2"
      }
     },
     "metadata": {},
     "output_type": "display_data"
    },
    {
     "name": "stdout",
     "output_type": "stream",
     "text": [
      "Train accuracy: 0.27. Test accuracy: 0.29\n",
      "Train loss: 4.07. Test loss: 4.31\n",
      "-------------------------------------------------\n"
     ]
    }
   ],
   "source": [
    "train, test = train_test_split(np.arange(1000), shuffle=True, test_size=.2)\n",
    "\n",
    "train_split = Subset(dataset, train)\n",
    "test_split = Subset(dataset, test)\n",
    "\n",
    "train_loader = DataLoader(train_split, batch_size=16)\n",
    "test_loader = DataLoader(test_split, batch_size=16)\n",
    "\n",
    "n_epochs = 10\n",
    "model.eval()\n",
    "model_to_train.train()\n",
    "epsilon = .1\n",
    "\n",
    "train_loss_history, test_loss_history = [], []\n",
    "train_accuracy_history, test_accuracy_history = [], []\n",
    "\n",
    "for i in range(n_epochs):\n",
    "    print(f\"Epoch: {i + 1}/{n_epochs}\")\n",
    "    model_to_train.train()\n",
    "    \n",
    "    running_loss_train, running_loss_test = 0.0, 0.0\n",
    "    running_corrects_train, running_corrects_test = 0, 0\n",
    "    print(\"Training...\")\n",
    "    for inputs, _, labels, _, id in tqdm(train_loader):\n",
    "        inputs, labels = inputs.to(device), labels.to(device)\n",
    "\n",
    "        noise = fgsm(inputs, labels, model, .1)\n",
    "        adversarial_image = inputs + noise\n",
    "        assert adversarial_image.shape == inputs.shape\n",
    "        \n",
    "        output, _ = model_to_train(adversarial_image)\n",
    "        train_loss = loss_function(output, labels)\n",
    "        \n",
    "        optimizer.zero_grad()\n",
    "        train_loss.backward()\n",
    "        optimizer.step()\n",
    "        \n",
    "        _, preds = torch.max(output, dim=1)\n",
    "        \n",
    "        running_loss_train += train_loss.item() * inputs.size(0)\n",
    "        running_corrects_train += torch.sum(preds == labels)\n",
    "        \n",
    "    model_to_train.eval()\n",
    "    print(\"Evaluating...\")\n",
    "    for inputs, _, labels, _, id in tqdm(test_loader):\n",
    "        inputs, labels = inputs.to(device), labels.to(device)\n",
    "        \n",
    "        noise = fgsm(inputs, labels, model, .1)\n",
    "        adversarial_image = inputs + noise\n",
    "        \n",
    "        assert adversarial_image.shape == inputs.shape\n",
    "        \n",
    "        output = model_to_train(adversarial_image)\n",
    "        test_loss = loss_function(output, labels)\n",
    "        _, preds = torch.max(output, dim=1)\n",
    "        \n",
    "        running_loss_test += test_loss.item() * inputs.size(0)\n",
    "        running_corrects_test += torch.sum(preds == labels)\n",
    "        \n",
    "    train_accuracy_history.append(running_corrects_train/len(train_split))\n",
    "    test_accuracy_history.append(running_corrects_test/len(test_split))\n",
    "    \n",
    "    train_loss_history.append(running_loss_train/len(train_split))\n",
    "    test_loss_history.append(running_loss_test/len(test_split))\n",
    "    \n",
    "    print(f\"Train accuracy: {round(train_accuracy_history[-1].item(), 2)}. Test accuracy: {round(test_accuracy_history[-1].item(), 2)}\")\n",
    "    print(f\"Train loss: {round(train_loss_history[-1], 2)}. Test loss: {round(test_loss_history[-1], 2)}\")\n",
    "    print(\"-------------------------------------------------\")\n"
   ],
   "metadata": {
    "collapsed": false,
    "ExecuteTime": {
     "end_time": "2024-02-01T11:16:03.922107900Z",
     "start_time": "2024-02-01T11:13:06.025544800Z"
    }
   }
  },
  {
   "cell_type": "code",
   "execution_count": 23,
   "outputs": [
    {
     "data": {
      "text/plain": "0.25999999046325684"
     },
     "execution_count": 23,
     "metadata": {},
     "output_type": "execute_result"
    }
   ],
   "source": [
    "train_accuracy_history[-1].item()"
   ],
   "metadata": {
    "collapsed": false,
    "ExecuteTime": {
     "end_time": "2024-02-01T11:12:07.124871800Z",
     "start_time": "2024-02-01T11:12:07.111853700Z"
    }
   }
  },
  {
   "cell_type": "code",
   "execution_count": null,
   "outputs": [],
   "source": [],
   "metadata": {
    "collapsed": false,
    "ExecuteTime": {
     "end_time": "2024-02-01T10:31:59.475043300Z",
     "start_time": "2024-02-01T10:31:59.470045700Z"
    }
   }
  }
 ],
 "metadata": {
  "kernelspec": {
   "display_name": "Python 3",
   "language": "python",
   "name": "python3"
  },
  "language_info": {
   "codemirror_mode": {
    "name": "ipython",
    "version": 2
   },
   "file_extension": ".py",
   "mimetype": "text/x-python",
   "name": "python",
   "nbconvert_exporter": "python",
   "pygments_lexer": "ipython2",
   "version": "2.7.6"
  }
 },
 "nbformat": 4,
 "nbformat_minor": 0
}
