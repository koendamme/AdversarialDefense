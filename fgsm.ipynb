{
 "cells": [
  {
   "cell_type": "code",
   "execution_count": 1,
   "metadata": {
    "collapsed": true,
    "ExecuteTime": {
     "end_time": "2024-02-02T09:55:09.130775100Z",
     "start_time": "2024-02-02T09:55:05.599001600Z"
    }
   },
   "outputs": [],
   "source": [
    "import torch\n",
    "from torch.utils.data import DataLoader, Subset\n",
    "import torchvision.transforms as transforms\n",
    "from adversarial_dataset import AdversarialDataset\n",
    "from sklearn.model_selection import train_test_split\n",
    "import matplotlib.pyplot as plt\n",
    "from torchvision import models\n",
    "import torch.nn.functional as F\n",
    "from tqdm.notebook import tqdm\n",
    "import os\n",
    "import numpy as np"
   ]
  },
  {
   "cell_type": "code",
   "execution_count": 2,
   "outputs": [],
   "source": [
    "class TensorToDevice(object):\n",
    "    def __init__(self, device):\n",
    "        self.device = device\n",
    "\n",
    "    def __call__(self, image):\n",
    "        image = image.to(self.device)\n",
    "        return image"
   ],
   "metadata": {
    "collapsed": false,
    "ExecuteTime": {
     "end_time": "2024-02-02T09:55:09.135776400Z",
     "start_time": "2024-02-02T09:55:09.131774400Z"
    }
   }
  },
  {
   "cell_type": "code",
   "execution_count": 3,
   "outputs": [
    {
     "data": {
      "text/plain": "device(type='cuda', index=0)"
     },
     "execution_count": 3,
     "metadata": {},
     "output_type": "execute_result"
    }
   ],
   "source": [
    "device = torch.device(\"cuda:0\" if torch.cuda.is_available() else \"cpu\")\n",
    "device"
   ],
   "metadata": {
    "collapsed": false,
    "ExecuteTime": {
     "end_time": "2024-02-02T09:55:09.166664900Z",
     "start_time": "2024-02-02T09:55:09.134775700Z"
    }
   }
  },
  {
   "cell_type": "code",
   "execution_count": 4,
   "outputs": [],
   "source": [
    "mean = (0.485, 0.456, 0.406)\n",
    "std = (0.229, 0.224, 0.225)\n",
    "\n",
    "transform = transforms.Compose([\n",
    "    transforms.ToTensor(),\n",
    "    transforms.Normalize(mean=mean, std=std)\n",
    "])\n",
    "\n",
    "noise_transform = transforms.Compose([\n",
    "    transforms.ToTensor()\n",
    "])"
   ],
   "metadata": {
    "collapsed": false,
    "ExecuteTime": {
     "end_time": "2024-02-02T09:55:09.166664900Z",
     "start_time": "2024-02-02T09:55:09.162316600Z"
    }
   }
  },
  {
   "cell_type": "code",
   "execution_count": 5,
   "outputs": [],
   "source": [
    "dataset = AdversarialDataset(annotation_file=\"images.csv\",\n",
    "                             categories_file=\"categories.csv\",\n",
    "                             img_dir=\"images\",\n",
    "                             noise_dir=\"adversarial_noise_targeted\",\n",
    "                             img_transform=transform,\n",
    "                             noise_transform=None)\n",
    "\n",
    "model = models.inception_v3(weights=models.Inception_V3_Weights.DEFAULT)\n",
    "model_to_train = models.inception_v3(weights=models.Inception_V3_Weights.DEFAULT)\n",
    "model_to_train = model_to_train.to(device)\n",
    "model = model.to(device)\n",
    "\n",
    "loss_function = torch.nn.CrossEntropyLoss()\n",
    "optimizer = torch.optim.Adam(model_to_train.parameters(), lr=0.001)"
   ],
   "metadata": {
    "collapsed": false,
    "ExecuteTime": {
     "end_time": "2024-02-02T09:55:09.765206500Z",
     "start_time": "2024-02-02T09:55:09.170659900Z"
    }
   }
  },
  {
   "cell_type": "code",
   "execution_count": 6,
   "outputs": [],
   "source": [
    "def fgsm(inputs, labels, model, epsilon):\n",
    "    inputs.requires_grad = True\n",
    "    output = model(inputs)\n",
    "    loss = F.nll_loss(output, labels)\n",
    "\n",
    "    model.zero_grad()\n",
    "    loss.backward()\n",
    "    return epsilon*inputs.grad.data.sign()"
   ],
   "metadata": {
    "collapsed": false,
    "ExecuteTime": {
     "end_time": "2024-02-02T09:55:09.769769300Z",
     "start_time": "2024-02-02T09:55:09.766263800Z"
    }
   }
  },
  {
   "cell_type": "code",
   "execution_count": 11,
   "outputs": [
    {
     "name": "stdout",
     "output_type": "stream",
     "text": [
      "Epoch: 1/1\n",
      "Evaluating...\n"
     ]
    },
    {
     "data": {
      "text/plain": "  0%|          | 0/7 [00:00<?, ?it/s]",
      "application/vnd.jupyter.widget-view+json": {
       "version_major": 2,
       "version_minor": 0,
       "model_id": "fae7b16269834038a93e6146ea2920d2"
      }
     },
     "metadata": {},
     "output_type": "display_data"
    },
    {
     "name": "stdout",
     "output_type": "stream",
     "text": [
      "Train accuracy: 0.0. Test accuracy: 0.88\n",
      "Train loss: 0.0. Test loss: 0.79\n",
      "CW accuracy: 0.88. cw target accuracy: 0.0\n",
      "-------------------------------------------------\n"
     ]
    },
    {
     "data": {
      "text/plain": "<Figure size 640x480 with 1 Axes>",
      "image/png": "[encoded data removed]"
     },
     "metadata": {},
     "output_type": "display_data"
    }
   ],
   "source": [
    "train, test = train_test_split(np.arange(1000), shuffle=True, test_size=.2)\n",
    "\n",
    "train_split = Subset(dataset, train)\n",
    "test_split = Subset(dataset, test)\n",
    "\n",
    "train_loader = DataLoader(train_split, batch_size=32, pin_memory=True)\n",
    "test_loader = DataLoader(test_split, batch_size=32, pin_memory=True)\n",
    "\n",
    "n_epochs = 1\n",
    "model.eval()\n",
    "model_to_train.train()\n",
    "epsilon = .1\n",
    "\n",
    "train_loss_history, test_loss_history = [], []\n",
    "train_accuracy_history, test_accuracy_history = [], []\n",
    "\n",
    "cw_accuracy_history, cw_target_accuracy_history = [], []\n",
    "\n",
    "for i in range(n_epochs):\n",
    "    print(f\"Epoch: {i + 1}/{n_epochs}\")\n",
    "    model_to_train.train()\n",
    "    \n",
    "    running_loss_train, running_loss_test = 0.0, 0.0\n",
    "    running_corrects_train, running_corrects_test = 0, 0\n",
    "    \n",
    "    running_corrects_test_cw, running_correct_test_cw_targets = 0, 0\n",
    "    # print(\"Training...\")\n",
    "    # for inputs, _, labels, _, id in tqdm(train_loader):\n",
    "    #     inputs, labels = inputs.to(device), labels.to(device)\n",
    "    # \n",
    "    #     noise = fgsm(inputs, labels, model, .1)\n",
    "    #     adversarial_image = inputs + noise\n",
    "    #     assert adversarial_image.shape == inputs.shape\n",
    "    # \n",
    "    #     output, _ = model_to_train(adversarial_image)\n",
    "    #     train_loss = loss_function(output, labels)\n",
    "    # \n",
    "    #     optimizer.zero_grad()\n",
    "    #     train_loss.backward()\n",
    "    #     optimizer.step()\n",
    "    # \n",
    "    #     _, preds = torch.max(output, dim=1)\n",
    "    # \n",
    "    #     running_loss_train += train_loss.item() * inputs.size(0)\n",
    "    #     running_corrects_train += torch.sum(preds == labels).cpu().item()\n",
    "        \n",
    "    model_to_train.eval()\n",
    "    print(\"Evaluating...\")\n",
    "    for inputs, cw_noise, labels, targets, id in tqdm(test_loader):\n",
    "        inputs, labels, targets, cw_noise = inputs.to(device), labels.to(device), targets.to(device), cw_noise.to(device)\n",
    "        \n",
    "        fgsm_noise = fgsm(inputs, labels, model, .1)\n",
    "        fgsm_image = inputs + fgsm_noise\n",
    "        # cw_image = inputs + cw_noise\n",
    "        # cw_image = cw_image #.float()\n",
    "        cw_image = inputs\n",
    "        assert fgsm_image.shape == inputs.shape\n",
    "        assert cw_image.shape == inputs.shape\n",
    "        assert labels.shape == targets.shape\n",
    "        \n",
    "        output2 = model_to_train(fgsm_image)\n",
    "        test_loss = loss_function(output2, labels)\n",
    "        _, preds = torch.max(output2, dim=1)\n",
    "        \n",
    "        cw_output = model_to_train(cw_image)\n",
    "        _, cw_preds = torch.max(cw_output, dim=1)\n",
    "        \n",
    "        running_loss_test += test_loss.item() * inputs.size(0)\n",
    "        running_corrects_test += torch.sum(preds == labels).cpu().item()\n",
    "        running_corrects_test_cw += torch.sum(cw_preds == labels).cpu().item()\n",
    "        running_correct_test_cw_targets += torch.sum(cw_preds == targets).cpu().item()\n",
    "        \n",
    "    train_accuracy_history.append(running_corrects_train/len(train_split))\n",
    "    test_accuracy_history.append(running_corrects_test/len(test_split))\n",
    "    \n",
    "    train_loss_history.append(running_loss_train/len(train_split))\n",
    "    test_loss_history.append(running_loss_test/len(test_split))\n",
    "    \n",
    "    cw_accuracy_history.append(running_corrects_test_cw/len(test_split)) \n",
    "    cw_target_accuracy_history.append(running_correct_test_cw_targets/len(test_split))\n",
    "    \n",
    "    save_path = os.path.join(\"fgsm_defense_models\", f\"epoch{i}.pt\")\n",
    "    torch.save(model_to_train.state_dict(), save_path)\n",
    "    \n",
    "    \n",
    "    # plt.plot(train_loss_history, label=\"Train loss\")\n",
    "    # plt.plot(test_loss_history, label=\"Test loss\")\n",
    "    plt.figure()\n",
    "    plt.title('Retraining with FGSM samples')\n",
    "    plt.plot(train_accuracy_history, label=\"Train\")\n",
    "    plt.plot(test_accuracy_history, label=\"Test\")\n",
    "    plt.plot(cw_accuracy_history, label=\"CW\")\n",
    "    # plt.plot(cw_target_accuracy_history, label=\"CW target\")\n",
    "    plt.legend()\n",
    "    plt.xlabel('Epoch')\n",
    "    plt.ylabel('Accuracy')\n",
    "    plt.savefig(\"figures/learning_curve.png\")\n",
    "    \n",
    "    print(f\"Train accuracy: {round(train_accuracy_history[-1], 2)}. Test accuracy: {round(test_accuracy_history[-1], 2)}\")\n",
    "    print(f\"Train loss: {round(train_loss_history[-1], 2)}. Test loss: {round(test_loss_history[-1], 2)}\")\n",
    "    print(f\"CW accuracy: {round(cw_accuracy_history[-1], 2)}. cw target accuracy: {round(cw_target_accuracy_history[-1], 4)}\")\n",
    "    print(\"-------------------------------------------------\")\n"
   ],
   "metadata": {
    "collapsed": false,
    "ExecuteTime": {
     "end_time": "2024-02-02T10:17:22.388159500Z",
     "start_time": "2024-02-02T10:17:19.538663700Z"
    }
   }
  },
  {
   "cell_type": "code",
   "execution_count": 12,
   "outputs": [
    {
     "data": {
      "text/plain": "0.875"
     },
     "execution_count": 12,
     "metadata": {},
     "output_type": "execute_result"
    }
   ],
   "source": [
    "cw_accuracy_history[-1]"
   ],
   "metadata": {
    "collapsed": false,
    "ExecuteTime": {
     "end_time": "2024-02-02T10:17:27.399082Z",
     "start_time": "2024-02-02T10:17:27.393023100Z"
    }
   }
  },
  {
   "cell_type": "code",
   "execution_count": 8,
   "outputs": [],
   "source": [],
   "metadata": {
    "collapsed": false,
    "ExecuteTime": {
     "end_time": "2024-02-02T09:59:17.243538100Z",
     "start_time": "2024-02-02T09:59:17.239032Z"
    }
   }
  }
 ],
 "metadata": {
  "kernelspec": {
   "display_name": "Python 3",
   "language": "python",
   "name": "python3"
  },
  "language_info": {
   "codemirror_mode": {
    "name": "ipython",
    "version": 2
   },
   "file_extension": ".py",
   "mimetype": "text/x-python",
   "name": "python",
   "nbconvert_exporter": "python",
   "pygments_lexer": "ipython2",
   "version": "2.7.6"
  }
 },
 "nbformat": 4,
 "nbformat_minor": 0
}
